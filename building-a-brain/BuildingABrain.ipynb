{
  "nbformat": 4,
  "nbformat_minor": 0,
  "metadata": {
    "colab": {
      "name": "BuildingABrian.ipynb",
      "provenance": [],
      "collapsed_sections": []
    },
    "kernelspec": {
      "name": "python3",
      "display_name": "Python 3"
    },
    "language_info": {
      "name": "python"
    },
    "accelerator": "GPU"
  },
  "cells": [
    {
      "cell_type": "markdown",
      "metadata": {
        "id": "eTAtY3XZbMeu"
      },
      "source": [
        "<center><a href=\"https://www.nvidia.com/en-us/training/\"><img src=\"https://dli-lms.s3.amazonaws.com/assets/general/DLI_Header_White.png\" width=\"400\" height=\"186\" /></a></center>\n",
        "\n",
        "\n"
      ]
    },
    {
      "cell_type": "markdown",
      "metadata": {
        "id": "4jUb-j_RU3cE"
      },
      "source": [
        "# Building a Brain in 10 Minutes\n",
        "\n",
        "Many decades ago, artificial neural networks were developed to mimic the learning capabilities of humans and animals. Below is an excerpt from [The Machine that Changed the World](https://www.youtube.com/watch?v=enWWlx7-t0k&t=166s), a 1992 documentary about Artificial Intelligence."
      ]
    },
    {
      "cell_type": "code",
      "metadata": {
        "id": "Jj9625DV7oKS"
      },
      "source": [
        "from IPython.display import YouTubeVideo\n",
        "YouTubeVideo('cNxadbrN_aI')"
      ],
      "execution_count": null,
      "outputs": []
    },
    {
      "cell_type": "markdown",
      "metadata": {
        "id": "0iahPLqS7-H-"
      },
      "source": [
        "Since then, computers and machine learning libraries have evolved to where we can replicate many days of experimentation in just a few minutes. In this notebook, we will step through how artificial neural networks have improved over the years and the biological inspiration behind it.\n",
        "\n",
        "To demonstrate, we will be using [TensorFlow](https://www.tensorflow.org/), an open-source machine learning library popular in industry. Recent versions of TensorFlow automatically detect if there is a GPU available for computation."
      ]
    },
    {
      "cell_type": "code",
      "metadata": {
        "id": "boTcxf3jUGum"
      },
      "source": [
        "import tensorflow as tf\n",
        "\n",
        "tf.config.list_physical_devices('GPU')"
      ],
      "execution_count": null,
      "outputs": []
    },
    {
      "cell_type": "markdown",
      "metadata": {
        "id": "BfZZ17PkquZY"
      },
      "source": [
        "GPUs were originally designed for the significant amount of matrix mathematics used when rendering computer graphics. Neural networks also require a significant amount of matrix multiplication, making GPUs a good fit when building them.\n",
        "\n",
        "## Data\n",
        "\n",
        "Speaking of graphics, we're going to tackle a challenge that seemed almost impossible decades ago: image classification with computer vision. Specifically, we will try to classify articles of clothing from the [Fashion MNIST](https://github.com/zalandoresearch/fashion-mnist) dataset. A few samples are shown below:\n",
        "\n",
        "<center><img src=\"https://github.com/zalandoresearch/fashion-mnist/blob/master/doc/img/fashion-mnist-sprite.png?raw=true\" width=\"400\" /></center>\n",
        "\n",
        "Neural networks attempt to copy the human learning technique, Trial and Error. To do this, we will create something like a set of digital flashcards. Our artificial brains will attempt to guess what kind of clothing we are showing it with a flashcard, then we will give it the answer, helping the computer learn from its successes and mistakes.\n",
        "\n",
        "Just like how students are quizzed to test their understanding, we will set aside a portion of our data to quiz our neural networks to make sure they understand the concepts we're trying to teach them, as opposed to them memorizing the answers to their study questions. For trivia, memorization might be an acceptable strategy, but for skills, like adding two numbers, memorization won't get our models very far.\n",
        "\n",
        "The study data is often called the `training dataset` and the quiz data is often called the `validation dataset`. As Fashion MNIST is a popular dataset, it is already included with the TensorFlow library. Let's load it into our coding environment and take a look at it."
      ]
    },
    {
      "cell_type": "code",
      "metadata": {
        "id": "ijLiERH_n6q_"
      },
      "source": [
        "fashion_mnist = tf.keras.datasets.fashion_mnist\n",
        "(train_images, train_labels), (valid_images, valid_labels) = fashion_mnist.load_data()"
      ],
      "execution_count": null,
      "outputs": []
    },
    {
      "cell_type": "markdown",
      "metadata": {
        "id": "85SHQpW5yYkO"
      },
      "source": [
        "Let's start with our `train_images` and `train_labels`. `train_images` are like the question on our flashcards and `train_labels` are like the answer. In general, data scientists often refer to this answer as the `label`.\n",
        "\n",
        "We can plot one of these images to see what it looks like. To do so, we will use [Matplotlib](https://matplotlib.org/)."
      ]
    },
    {
      "cell_type": "code",
      "metadata": {
        "id": "sogb0Tt1xfni"
      },
      "source": [
        "import matplotlib.pyplot as plt\n",
        "\n",
        "# The question number to study with. Feel free to change up to 59999.\n",
        "data_idx = 42\n",
        "\n",
        "plt.figure()\n",
        "plt.imshow(train_images[data_idx], cmap='gray')\n",
        "plt.colorbar()\n",
        "plt.grid(False)\n",
        "plt.show()"
      ],
      "execution_count": null,
      "outputs": []
    },
    {
      "cell_type": "markdown",
      "metadata": {
        "id": "8WQP0S79zwHp"
      },
      "source": [
        "What would you classify this as? To make it easier, here are the ten categories it could be:\n",
        "\n",
        "| Label | Description |\n",
        "| --- | --- |\n",
        "| 0 | T-shirt/top |\n",
        "| 1 | Trouser |\n",
        "| 2 | Pullover |\n",
        "| 3 | Dress |\n",
        "| 4 | Coat |\n",
        "| 5 | Sandal |\n",
        "| 6 | Shirt |\n",
        "| 7 | Sneaker |\n",
        "| 8 | Bag |\n",
        "| 9 | Ankle boot |\n",
        "\n",
        "Have an answer? Run the following code cell to see if you were correct:"
      ]
    },
    {
      "cell_type": "code",
      "metadata": {
        "id": "CQdadtT11iI8"
      },
      "source": [
        "train_labels[data_idx]"
      ],
      "execution_count": null,
      "outputs": []
    },
    {
      "cell_type": "markdown",
      "metadata": {
        "id": "ApLNmN7M3PTY"
      },
      "source": [
        "How did you do? Good job if you got it correct!\n",
        "\n",
        "Our validation data has a similar structure of questions and answers:"
      ]
    },
    {
      "cell_type": "code",
      "metadata": {
        "id": "ZNrxxfNk3it1"
      },
      "source": [
        "import matplotlib.pyplot as plt\n",
        "\n",
        "# The question number to quiz with. Feel free to change up to 9999.\n",
        "data_idx = 6174\n",
        "\n",
        "plt.figure()\n",
        "plt.imshow(valid_images[data_idx], cmap='gray')\n",
        "plt.colorbar()\n",
        "plt.grid(False)\n",
        "plt.show()"
      ],
      "execution_count": null,
      "outputs": []
    },
    {
      "cell_type": "code",
      "metadata": {
        "id": "AeJ68DMn4f3g"
      },
      "source": [
        "valid_labels[data_idx]"
      ],
      "execution_count": null,
      "outputs": []
    },
    {
      "cell_type": "markdown",
      "metadata": {
        "id": "yovioyGH4sH5"
      },
      "source": [
        "# Building a Neuron\n",
        "\n",
        "Neurons are the fundamental building blocks to a neural network. Just like how biological neurons send an electrical impulse under specific stimuli, artificial neural networks similarly result in a numerical output with a given numerical input.\n",
        "\n",
        "We can break down building a neuron into 3 steps:\n",
        "- Defining the architecture\n",
        "- Intiating training\n",
        "- Evaluating the model\n",
        "\n",
        "## Defining the architecture\n",
        "<center>\n",
        "<a title=\"BruceBlaus, CC BY 3.0 &lt;https://creativecommons.org/licenses/by/3.0&gt;, via Wikimedia Commons\" href=\"https://commons.wikimedia.org/wiki/File:Blausen_0657_MultipolarNeuron.png\"><img width=\"512\" alt=\"Blausen 0657 MultipolarNeuron\" src=\"https://upload.wikimedia.org/wikipedia/commons/thumb/1/10/Blausen_0657_MultipolarNeuron.png/512px-Blausen_0657_MultipolarNeuron.png\"></a>\n",
        "<p><small>\n",
        "Image courtesy of <a href=\"https://commons.wikimedia.org/wiki/File:Blausen_0657_MultipolarNeuron.png\">Wikimedia Commons</a>\n",
        "</small></p>\n",
        "</center>\n",
        "\n",
        "Biological neurons transmit information with a mechanism similar to [Morse Code](https://news.weill.cornell.edu/news/2007/09/scientists-find-clues-to-crack-brains-neural-code). It receives electrical signals through the dendrites, and under the right conditions, sends an electrical impulse down the axon and out through the terminals.\n",
        "\n",
        "It is theorized the sequence and timing of these impulses play a large part of how information travels through the brain. Most artificial neural networks have yet to capture this timing aspect of biological neurons, and instead emulate the phenomenon with simpler mathematical formulas.\n",
        "\n",
        "\n",
        "### The Math\n",
        "\n",
        "Computers are built with discrete 0s and 1s whereas humans and animals are built on more continuous building blocks. Because of this, some of the first neurons attempted to mimic biological neurons with a linear regression function: `y = mx + b`. The `x` is like information coming in through the dendrites and the `y` is like the output through the terminals. As the computer guesses more and more answers to the questions we present it, it will update its variables (`m` and `b`) to better fit the line to the data it has seen.\n",
        "\n",
        "Neurons are often exposed to multivariate data. We're going to build a neuron that takes each pixel value (which is between `0` and `255`), and assign it a weight, which is equivalent to our `m`. Data scientists often express this weight as `w`. For example, the first pixel will have a weight of `w0`, the second will have a weight of `w1`, and so on. Our full equation becomes `y = w0x0 + w1x1 + w2x2 + ... + b`.\n",
        "\n",
        "Each image is 28 pixels by 28 pixels, so we will have a total of 784 weights. A pixel value of `0` would be black and a pixel value of `255` would be white. Let's look at the raw pixel values of the previous image we plotted. Each number below will be assigned a weight."
      ]
    },
    {
      "cell_type": "code",
      "metadata": {
        "id": "dHq93yV8_FWR"
      },
      "source": [
        "# 28 lists with 28 values each\n",
        "valid_images[data_idx]"
      ],
      "execution_count": null,
      "outputs": []
    },
    {
      "cell_type": "markdown",
      "metadata": {
        "id": "RyeKfI1MeS1H"
      },
      "source": [
        "One more thing to think about: the output of `y = mx + b` is a number, but here, we're trying to classify different articles of clothing. How might we convert numbers into categories?\n",
        "\n",
        "Here is a simple approach: we can make ten neurons, one for each article of clothing. If the neuron assigned to \"Trousers\" (label #1), has the highest output compared to the other neurons, the model will guess \"Trousers\" for the given input image.\n",
        "\n",
        "[Keras](https://keras.io/), a deep learning framework that has been integrated into TensorFlow, makes such a model easy to build. We will use the [Sequential API](https://keras.io/guides/sequential_model/), which allows us to stack [layers](https://keras.io/api/layers/), the list of operations we will be applying to our data as it is fed through the network.\n",
        "\n",
        "In the below model, we have two layers:\n",
        "* [Flatten](https://www.tensorflow.org/api_docs/python/tf/keras/layers/Flatten) - Converts multidimensional data into 1 dimensional data (ex: a list of lists into a single list).\n",
        "* [Dense](https://www.tensorflow.org/api_docs/python/tf/keras/layers/Dense) -  A \"row\" of neurons. Each neuron has a weight (`w`) for each input. In the example below, we use the number `10` to place ten neurons.\n",
        "\n",
        "We will also define an `input_shape` which is the dimensions of our data. In this case, our `28x28` pixels for each image."
      ]
    },
    {
      "cell_type": "code",
      "metadata": {
        "id": "SIgbDeIbqELs"
      },
      "source": [
        "number_of_classes = train_labels.max() + 1\n",
        "number_of_classes"
      ],
      "execution_count": null,
      "outputs": []
    },
    {
      "cell_type": "code",
      "metadata": {
        "id": "-_dqJnVc_u_k"
      },
      "source": [
        "model = tf.keras.Sequential([\n",
        "    tf.keras.layers.Flatten(input_shape=(28, 28)),\n",
        "    tf.keras.layers.Dense(number_of_classes)\n",
        "])"
      ],
      "execution_count": null,
      "outputs": []
    },
    {
      "cell_type": "markdown",
      "metadata": {
        "id": "CFu5GSceKutY"
      },
      "source": [
        "### Verifying the model\n",
        "\n",
        "To make sure our model has the structure we expect, we can call the [summary](https://www.tensorflow.org/js/guide/models_and_layers#model_summary) method."
      ]
    },
    {
      "cell_type": "code",
      "metadata": {
        "id": "wYSHZNPEA1tb"
      },
      "source": [
        "model.summary()"
      ],
      "execution_count": null,
      "outputs": []
    },
    {
      "cell_type": "markdown",
      "metadata": {
        "id": "lueaUIm_P58N"
      },
      "source": [
        "We can see that our total parameter count is `7850`. Let's see if this makes sense. For each pixel, there should be a weight for each of our ten classes."
      ]
    },
    {
      "cell_type": "code",
      "metadata": {
        "id": "00aNzMfrQARw"
      },
      "source": [
        "image_height = 28\n",
        "image_width = 28\n",
        "\n",
        "number_of_weights = image_height * image_width * number_of_classes\n",
        "number_of_weights"
      ],
      "execution_count": null,
      "outputs": []
    },
    {
      "cell_type": "markdown",
      "metadata": {
        "id": "41UE3f6cVttG"
      },
      "source": [
        "So our weights make up `7,840` parameters. Where do the other ten come from? It's each of the `10` neurons biases, the `b` in `y = mx + b`.\n",
        "\n",
        "There are a few other ways to verify our model. We can also [plot](https://keras.io/api/utils/model_plotting_utils/) it:"
      ]
    },
    {
      "cell_type": "code",
      "metadata": {
        "id": "3wY9VLOKKyKw"
      },
      "source": [
        "tf.keras.utils.plot_model(model, show_shapes=True)"
      ],
      "execution_count": null,
      "outputs": []
    },
    {
      "cell_type": "markdown",
      "metadata": {
        "id": "sd9yFrAn3GWX"
      },
      "source": [
        "In academic papers, models are often represented like the picture below. In practice, modern neural networks are so large, it's impractical to graph them in this way. The below is a fraction of our entire model. There are 10 neurons on the bottom representing each of our ten classes, and 28 input nodes on the top, representing a row of our pixels. In reality, the top layer is 28 times bigger!\n",
        "\n",
        "Each circle represents a neuron or an input, and each line represents a weight. The below image was created with a tool by [Alex Lenail](http://alexlenail.me/NN-SVG/index.html)."
      ]
    },
    {
      "cell_type": "markdown",
      "metadata": {
        "id": "K7MlGdeU3Gau"
      },
      "source": [
        "![nn.png](data:image/png;base64,iVBORw0KGgoAAAANSUhEUgAABSIAAAIVCAIAAABKkhbrAAAAAXNSR0IArs4c6QAAAARnQU1BAACxjwv8YQUAAAAJcEhZcwAAHYcAAB2HAY/l8WUAAP+lSURBVHhe7P15l2Vpdd/7+h35Zegt+K/ro3PGGb7j3GsJ2ZJ9bUuyLMvqLCFkIRCIrqiGoiiqqCqaggIkGjU0opHoEV2JRvQFSPTI9xPxXUwtRWZG7ojYmaCqZ44Yezxr7WfN5jd/c85nRWZl/Yv/vWTJkiVLlixZsmTJkiVLliw5kqzX7CVLlixZsmTJkiVLlixZsuRosl6zlyxZsmTJkiVLlixZsmTJkqPJes1esmTJkiVLlixZsmTJkiVLjibrNXvJkiVLlixZsmTJkiVLliw5mqzX7CVLlixZsmTJkiVLlixZsuRosl6zlyxZsmTJkiVLlixZsmTJkqPJes1esmTJkiVLlixZsmTJkiVLjibrNXvJkiVLlixZsmTJkiVLliw5mqzX7CVLlixZsmTJkiVLlixZsuRosl6zlyxZsmTJkiVLlixZsmTJkqPJes1esmTJkiVLlixZsmTJkiVLjibrNXvJkiVLlixZsmTJkiVLliw5mqzX7CVLlixZsmTJkiVLlixZsuRosl6zlyxZsmTJkiVLlixZsmTJkqPJes1esmTJkiVLlixZsmTJkiVLjibrNXvJkiVLlixZsmTJkiVLliw5mqzX7CVLlixZsmTJkiVLlixZsuRosl6zlyxZsmTJkiVLlixZsmTJkqPJes1esmTJkiVLlixZsmTJkiVLjibrNXvJkiVLlixZsmTJkiVLliw5mqzX7CVLlixZsmTJkiVLlixZsuRosl6zlyxZsmTJkiVLlixZsmTJkqPJes1esmTJkiVLlixZsmTJkiVLjibrNXvJkiVLlixZsmTJkiVLliw5mqzX7CVLlixZsmTJkiVLlixZsuRosl6zlyxZsmTJkiVLlixZsmTJkqPJes1esmTJkiVLlixZsmTJkiVLjibrNXvJkiVLlixZsmTJkiVLliw5mqzX7CVLlixZsmTJkiVLlixZsuRosl6zlyxZsmTJkiVLlixZsmTJkqPJes1esmTJkiVLlixZsmTJkiVLjibrNXvJkiVLlixZsmTJkiVLliw5mqzX7CVLlixZsmTJkiVLlixZsuRosl6zlyxZsmTJkiVLlixZsmTJkqPJes1esmTJkiVLlixZsmTJkiVLjibrNXvJkiVLlixZsmTJkiVLliw5mqzX7CVLlixZsmTJkiVLlixZsuRosl6zlyxZsmTJkiVLlixZsmTJkqPJes1esmTJkiVLlixZsmTJkiVLjibrNXvJkiVLlixZsmTJkiVLliw5mjxVXrOf+M7X3/Lpt734Ay97xruf68fCpZvb17dMlt1l91bIsrvs3gpZdpfdWyHL7rJ7K2TZXXZvhTzV7C65pfLkf83+9Nc/+7/e8/yffPRp/+ndv/bfPv6MX//ss/1YuPzJR3/aV5/+xue2rUeVZXfZ3bYeVZbdZXfbelRZdpfdbetRZdlddretR5Vld9ndth5Vnmp2l9wGeZK/Zr/2k3/8r1/zU//1Y7/zvO/f/4L//cCZHzd9ZcNrP/HH2wNHkmV3/7PsHkuW3f3PsnssWXb3P8vusWTZ3f8su8eSZXf/s+weS55qdpfcHnkyv2a/7MOPPO2tv/h737jzDGvP/Nhgm83bY1eWZfe6P8vuFWXZve7PsntFWXav+7PsXlGW3ev+LLtXlGX3uj/L7hXlqWZ3yW2TJ+1r9hsff+tPv/UXnvPdl54h63V/nvOdl9rske3hK8iye87PsntpWXbP+Vl2Ly3L7jk/y+6lZdk952fZvbQsu+f8LLuXlqea3SW3U56cr9lf+dZXf/K1T/vdJ+44Q9Nzfmz2iAc3FZeSZfemP8vuJWTZvenPsnsJWXZv+rPsXkKW3Zv+LLuXkGX3pj/L7iXkqWZ3yW2WJ+dr9os/8LJf+NBvnSHoTX884sFNxaVk2T3kZ9m9qCy7h/wsuxeVZfeQn2X3orLsHvKz7F5Ult1Dfpbdi8pTze758qUvfem5z33udnFUoZby7eK2yyc/+cltddvlyfma/X8/9rPP+vu7z7Dzpj8e8eCm4lKy7B7ys+xeVJbdQ36W3YvKsnvIz7J7UVl2D/lZdi8qy+4hP8vuReWpZvd8Ocpr9ite8YoPfehD28UP5Uf7mv0jlCfha/aHvvzRn/nTXzpDzQN/POjxTdEFZdk9/GfZPVyW3cN/lt3DZdk9/GfZPVyW3cN/lt3DZdk9/GfZPVyeanZvKv98X7OfeOKJbfVjJk/C1+zXf+rN/+V9v3mGlwf+eNDjm6ILyrJ7+M+ye7gsu4f/LLuHy7J7+M+ye7gsu4f/LLuHy7J7+M+ye7g81ezeVOY123vy6173up/4iZ/4F//iX/ybf/NvvvnNb7rp/fk5z3mOO+SXf/mX2+bmyZOnz3rkrrvu2m8YOfOaTSG17XzrW99Kz7vf/e75Kp3utyFVHnffU+NP8g//8A/b6sdSnoSv2Q9+9NW/+JHfPsPLA3886PFN0QVl2T38Z9k9XJbdw3+W3cNl2T38Z9k9XJbdw3+W3cNl2T38Z9k9XJ5qdm8q+9fsf/Wv/lUvxt6cvfFaeN21Ptn3w5vXvmZbuON+N0fO+dNs+7/85S97ge/lmdo0P/3pT29DdzzOpWs1X3vnx0qehK/ZD//1a3/hw5ekrwc9vim6oCy7h/8su4fLsnv4z7J7uCy7h/8su4fLsnv4z7J7uCy7h/8su4fLU83uTWX/mj3vz7Pevyr3Ur3f1h2LA1+z58+9f+InfsJX85SF923v1X2b2GxPvp0RO7fVj6U8CV+z3/Lpt/2n9/z6GV4e+ONBj2+KLijL7uE/y+7hsuwe/rPsHi7L7uE/y+7hsuwe/rPsHi7L7uE/y+7h8lSze1OZV1lvvPO3uOdduhfg/c35au5YdL+bI2des70bzx+M9xXxlt6nm6yfUTJf/fOSJ+Fr9qe//tn/zx//pzO8PPDHgx7fFF1Qlt3Df5bdw2XZPfxn2T1clt3Df5bdw2XZPfxn2T1clt3Df5bdw+WpZvem4lX2nNfs/V8af/rTn+6+/W727j3fHvKaPXt8zt9Od5O0dv/nfu7n9v8NtvvrNfvHRX7urb/82196/hlq3vTHIx7cVFxKlt1Dfpbdi8qye8jPsntRWXYP+Vl2LyrL7iE/y+5FZdk95GfZvag81eyeL15lz//T7Pkn0Oavas/f/fZtr8H2/8t/+S/7d8tGXLaN9B9az7+v5o29V2v390+5bD/pkfWa/eMir//Um//DO//HGXbe9Off/dkvPfKhK6XwcnZ/9m2/fMV/NvBydv/DO3/lR2T3fyy7F5Jl95CfZfeisuwe8rPsXlSW3UN+lt2LyrJ7yM8/c7u/ckbtTX+OYvdn3/7fz6i96c/V7b7qI4/9+z//b2fU3vTn6navIl6k93+8fHTxLk22iyeLPDlfs8l/+dNf+5XHn3mGoOf82PxvHvnZZzzjGW9729t+8IMfbFouLpew+/9+5c/df//9X/7ylzcVl5JL2P1/XvUf3v/+92/PX1YuYfdpj/381Qv1EnZ/7k1H+BXgJez+5z/51e3hK8iye/7Psns5WXbP/1l2LyfL7vk/y+7l5Klm9z+++Vduv91vfetbT3v9L9x+ux/+8If/n1f/x9ts94knnnj44Ycdwm+n3X/4h39417ve9cxnnrx03OZ4ryi39DWb5vnHxp9M8qR9zf7E1x7/ydc+7Tf/9jlnaHrdH9v+9Wt+6r///q/+xm/8xm/91m/dcccdn/zkJzdFF5RL2P0fz/r1//k//+ezn/3sd77znZd+w79cvM94xjMeffTRr33ta5uWi8sl7P7qH/zGi170ok9/+tObikvJJez+1gt+Z/4OzKXlEnbvefSlV28cF7b76p9658evGiy5qN3/49Gf9sj28BXkonZtXnYvIcvuOT/L7qVl2T3n58lh9/94zU/ffrvv/uRf3n67Xjtf9vqXG+W32e5f/dVfPeOO37vNdv/2b//2nnvucUi7nXa//vWvv+ENb/i93/s9h+HbZtdh+73vfe8f/uEfOn7fTrt/8zd/A+Hf/u3f/s3f/M1fedav3X5eXUVu3Wv2W0//fviT74+yyZP2NZv85Rc/+H+99md++RO/e4asZ35s+D8ffdqvv+i3vOj+7u/+7v/6X//r6U9/+jOf+Uzvn1/5ylc2XReRw+0aGL92apdRpsl99933mc98ZlN0QbmQXfE+61nP0teYfv7zn/+Rj3xk03JxuZDd37jjt//gD/6AUd3tHe94x1X+t/IXjRfOTD/22GNXbBMXsvubL346u/fff3//5clV5GLx3vFbL37xiz/1qU9tD19BDrf7k6/56d95ye+9733v2568mlwo3rvf8NLtsSvLBeJ99Glve/xd22NXlsPt/p+v/Zm/+uIHt8euLIfbtW3ZvbQsu9f9uRV2Fcjtt/vOT79HA7z9du990/0a4G22++EPf/gZ9z7zNsfraHTvvff+5p1Pv512v/rVrz7yyCPPec5zjNTbZteL/Zve9KbnPve5Dg+OLrcnvw5j73nPe174whc6/bLrqHZ77H7iE5+48847GXUsvG3xfv7zn3/ooYdYJM94xjOcDH/thf/zVtt94okn3vjGNzp4e8XItHi9AvxI+saS2yZP5tds8ulvfO6X3/70f/dn/+3XPvvs5//g5XvWunTTVzZ89PMfe9WrXvWCF7zgec97nte/3//931fzXkFdvvOd7/zud7+7qTtYDrT78Jte9aIXvchbLmGXUaYZfetb3/r3f//3m66LyCF2//ObfvW5L32+YBOtnFGfr3/96y/9x9o3tfu0P/nFf/faX3zOS/5QdNk1t7S2V77ylVf52/I3tftTb/75n3n0F559z3NZND/gzO599933t3/7t5uKS8lN7f7bN/8Xdp9193MYlWLW77777qu/9B5i92mP/vzv3/UHjJKXvOQlH/3oR7eHryAH2v29F/++d3uRHutN+0C7z3zxs+66664///M/3x67shxk9zU//8w7n/XYY499//vf3x67shxo90UP3nm5/nAjOcQuPr//00ee8YfY/fm3/rpt2wNHkpva/em3/qINt8iuZngju1y6RXZ/8U9+UzO8zXY/9LmP/rvX/aIk3k67XlHuffV9yuR22v3BD37wlre8RcO/zXbf9a533XPPPRqg8rxtdj/ykY+YoVq9hq/93h67n/zkJ1/2spcxescddxhwtydeL/aMdngg8nsb7H7xi198+OGHHQjn8OAAc6vtegN83etex6ijoGMS045qDmyObU/7k/96i+x+/etff/Ob38ycN0+mLQRLnvvS5/3//uhXKL8Vdr/5zW++4x3vOMnms57l6Lu3e/9jD1J7K+x6iXjve9+Lvb1cdORml7z85S//yN/+9S2yu+THQZ7kr9nJn3/2L37l7c/416/5qZ/501/6j+/6VT8WLt30VXu++tWvPvjgg3feeadKqLXpMs9+9rOV4r333vuJT3yibReSm9pV8K9+9atZZJeYH6qOXe+f3lU+/vGPp+eicr5dbwVvfOMbGfVmwopP8Wo62o31xz72sU3LxeV8u3/6p3/60pe+lF1GnQyyC2eXV3wVPMfufX/+4AMPPMAceL1zZpcP1h/+8Ie35y8rN7L782/+9We/6nkOImwxhD8+hWnxwQ8e4UXlunb/X6/5tz/32H/7/UeeC+RsccCny/df+b/AT661+9Nv/YUTu6/7pd976A/ESBgljiZ/+Zd/uT12ZTlj9z+881ccOMYukMXI4v333/+e97xne+YYsrf7H/7if/z7t/3y//dNJ3Z/9nW/9IwHfh+2jJqRf/EXWw85loxd72OMjt1//9r/+jsvfyZ4GT3i7xRGxi5493adtNgF7y36C13s/ve3/Q5DzP0Tu4+e2NWstn3HFnaVzPXs/sJzXvOCbdMtkBe8/s5//+gvXmtXfv/sM+/cNh1b/uzP/ux3H3wWSK+1C3xQbPuOKu985ztx9en3/57Qxu7Pvu2X/+2b/guaIdutsPvud79bz1cmivSMXS8Mt8ju+973voceekhD0APhrEWMXf1KA7kVdj/wgQ+84hWvgLBepOdrhlpidn/uHf+9uXB0u/2bwyKFcD1/7P7UW36huXB0u04Ijmf6PKMFa2HYZbe5cHS7f/3Xf41IDXGmO0UI/Fmv/MP//Me/ytCtsOvUJ6GOguyyyDSjFm7e9eaXMnEr7H7yk5/U3h0CO4syR6xBrf1SfivsPv7448B04mW3eKXVJ7uvetWrvve9790Ku4xC8jnPeY7jrsOnI6h4CaNy/Xd/93f2HN3u3/zN32CvU70XCsd78bIb1PI7f8/xVsS75MdBnhKv2cm3v/+dj3zl4+/43Hv8WLjcvvihfP7zn3/kkUd0Fi1GwauBed+2eN3rXvfFL35x23oROd8uo3qKdqOPM63qNBpNp9bzhje84XJ/cZ2cY1cgr3nNa7QVHSfTY9fnH//xH3/961/ftl5cbmRXN3n00UedRXScMd3IBLgTfD3u0nJdu/0PAB5++GF2HQ4ynV3iXeU73zlLg4vKtXal7PWvf/0rX/lKdBrT7JpkTDt6HuXPP8/Y/dsvfR5bcOnVr341uySo4Uze9a6j/d3mvd2/ePy9r3vjY9KKTkwLWbyFzPR73/ve7ZljyNj9479+672vv//Vr3tNdsXLdPHC+a/+6q+2B44k2f2jj77ljjfcfc/rXsouRrFbyNl13t12H0/Yfccn3s3o81/74rE7IbPrvLttPap85vOffekbXs7o8193Yvc1jz3K7mtf+9riPcpfjrhWvvCFLyASc4ye2r3v0de/duK99C8cz5fPfe5zf/RHfwTYu1/7j3bFK1h2L/3Pc5wvn/70p9XpCZ6PPZrdFzx2p0U4O5Bt+44q1OpIjJ5Q97FHX/LYfT+M98TuZz97S/4XrAA8Mfea14zd8vuC14n33sc/e0si/djHPiZ3iJpdstl97Yuf9+gdb//4XyirbevxxPtYJcmuBQfYPeXVvc9/7R1v/MhbNJCj2/3whz/MnOaTXfGSk9hf+2p23/CRNzcXjmv3gx/8IHN6uyav2xPxZvqVj77qHZ94V3PhuHb7FYYBqr0XbyFn+rNf+Fxz4Yh2f/CDHzDabxPGrpDHtBMUQ8e1+93vfvfd7363Ye085qhgAee9aU3StuPa/eY3v/n2t79dmA5+TkQW7AqZ6ew6oLbziHa/8Y1v/Mmf/AlzztiOfxZC3pve/2XDY9l94oknHDKZm7d6h17C9H333cfumTZ4FLuOgo7T3qiff/oH5vPbBMK0LF/7n4geK94lPz7yFHrNPkQef/xxjVu1qwEtQFWoDWXpk7jpdeVb3/rWtvtI4hBpKutoSl3Be+dktzd8xakHOcRf5b9hvq44Ljv69F6klSt4hnrTLlJHh23r8cToeuyxx0xHgyq7E7JOxIdbcco0ujrX7u1q5dq6MN1peh1XjC6RMtp7AivGpLnFNHa98Y1vvMovMm4kb3nLW7Lok9Hiza543/a2t33ve9/bth5Jvv/975+8qPzwpJXs7V7935y7VpwM3vzmN7PSiYdYZ5TI71H+ysAZ+epXv+pkgEjgZYsVwgFioY4u9xdezhenDScDc5pddDo5Q58erDt7Me1Fcdt6PPF2JNI3velN7Equ17NelsTIrmBvBXU/9KEPYS+jCdNqhOnQxucj/s38kfe85z3FyCJGWXdZyG5u+44qylAqmRAgc5n2ya4s+3bbdzwBHRMyCMzsssV0di2O+BdPRpykhYmlaMM0PEXHLmGU3Irf1+jkGSWIqliE7A7ToX3Ff3fzumJmMaEYRXrSDk4FaYUc2lf/VzmuFdNZUbBITnrfaffrUshMX/F31teV97///QwFrMVJrz+VU/sncvT5QqEiFVTNduyKnYjU57b1eIK6f/Znf6bXTZtll9HMEezdth5PkARLnYUcS3rFHbssSuit+OtLxgdsnfocwHrVnMKBs3iP+Nv5kU996lMCnHfdfqfgztg91n9xNuLwrNuIrhM1006bEzK7QLj63208I9/+9rcFQj9zI071hewQCOpb9OvjJT9usl6zz4oB1qhWDF7D+jWbgiS9ALtz9FdQBWkkazFqXtNRil56M0qsNaCj/5mDIx2jminlGo1Ox5AYRW3BDUf8q/wj5NfKt771LbOkWcWueNk1zMRYr9d93vve917lf6h2rXzxi180FxlqcmRXyFIc1D6PnlBnL+8qiMSWeXlyGDkVbrisuR/9HekDH/gAo06TQBamAItasIRFB+vj/je95O1vf7sXpI7szpQyyyjTLGb66KPa1HRYFyOL7IqXXQcRdnEYvOxe5Z/0u6488cQT6oUVwLI+rygqSFrFy+4V/4P/a+Xxxx8HL1sCFF2vCuxyoMpFsKP/1k8vcqT70z/9097wWRE102P3Vhz4nGuFyagFDlsLDXnYZZQc/VcnjkGiExrlLGYak1nEH9Ytjt5yP//5zzNUW2CXOUbd6fca7uPS0ROqudHPnJIBqU/wuhPUpXXbejx597vfDV6a+6xwrJGqeI/eFiSUcoZQlMXiEmyFA2p2j36uNVxkTWuV0LGb6QrH+tJ/H+1G8slPfpLR5oiExlU5JcyV5ePOUOIdWzjCJE0WrZ5dFsf0tvVIohB0P7GQ7DZZ1AiomZPT4/5XQuQLX/iCMOfti9GTsf2a15RiUOPw0VnkzZOtu+++21Fzpjb+sCt2l1yaP1U+ipihOirNDnu9+GWXOXZllmkEO+5p4Rvf+MY73vEOhpz32O1PdBvZ7LLI7tFZBDcV4YzHaCd5h1umHTXltHiP/p99Sagw7zz96/fZJb1QuPQVu7fiDwOW/HjKes2+jiiAxrPaqPv4VJYnf9Xj9K+4KFoN94in6u9///sOr4zqpypQl68LsKsNKU4V646zyxX/ley9fPWrX3Ua0NoYJc0SoTFKvP2KFALHfQV1RHAY0toMEkanoes+zTZ2YXu5v59/I4GbM1bBslXI2RVgUDv2HfGX8d/97ncdQYxkRwGTo1MRi+yK3RrOIj3uwDZRnEtEJ1LnHtYdR9CJuMmuBU+Oe+xTLO985zudm2OvYIl18DJKjj7GoKpevPdKK5xxSbDsWosUsKwf94+Xv/a1rwmTIZEy7RWFOXh20AR4ZD7un/R+7GMfQ0u2hCOh4mVa7GxBWMisO7hsu48kFCZsYQsTHLBWtugUu47LWz0t5awAGYeFxlBQ++QDqI975nv88cfZYgg/BZhdbuj2Y9f9bfeRRDZL4hhiFNQMcYMz+HyVfx3jWvGuIl+kcOgHLEPZ5QnYZfm4f/gJ2wxRLlIhMy2JDLHIrjv4vO0+kvzlX/6l0hAaowqkFkEYUj78keLj/ncWXhsoZw68NR8stRCsAAGuXXDDnN0eOIb8zd/8DUMGFsJY1HwYsmZXWn0Kf9t9JHnf+96n4bBYS88uqRGJVLzH/U+EnnjiCWoljjlEsoAtW4zCnANuwva4vwiDLXPOIWqTRdH5FDLeZhe7fHWJfxP3RuLg9/73v58VhxBHkeBlV3RSbMFiTN4eOIY4ANApECb6wxWL4iW4VIqP+/dN+lWCGE1n5pwwO11La3YZZfqIf/VD64MtSPsjHJGyS+SXsAtkmYXwEQ9+Dq6wFaOXai8LTMusMLnhppCze9xiWfJjLus1+/qiDJSf1qM4q3/16XVXfaoZn/2TCd4fzNrtmauJuWKKJCyyyygH9CYV26sgi+4f8YzrSOf8wYqzAruaHSsaAdP6gqZA3DG5j/jH2mYGo4aWdsMiu5pdTZ9di8I84l/j0bsZZcWZj10LCHe+FGy9njivXOWfPT8jH/jAB7ze67ng9UlYZCW7IpVTl0f8b4l/8IMfCMGJpxcGygVLICyboC5w94/4q/HPfOYzikUq5ZRdZyNrhxLxdv5jV8jO1tsDxxDaGFV9QmPLJetOBkS87AqTOO5vD1xZlLno6PemRFgRFKjxijkxuqNj+DzizFYCDriqD6SCRSfmxOWTCBy8Po97HhKOF5LgVYzW2UUbIPeCxO4RX3pRyDuSuDqsg1e8omYX5rDtVe24f3JVXGKUR/opJ9HJfd/CgRyxIejwggpeMTLEHFtC5gA3OEOstweOIbpQOsGoTNiNThbsQhXs/Ln6/wRhxOlWIZQyhEEbC2GyHp2ilvvbA8eQT3ziE+KqHJhDV3G5I0y2ohO7R2y2XpBEpMuxCFtpZYJpeVQg7BLtwrdHHJ3eKikUDnOs0I9CNV73XQoWjXm1PXAMUZsSKkbwZtclH7R6dlm3BsURKWRei4VFYJpZaOOSXYI2qMUuqK1lYXvmyqLZMte5i1HAWpRNFg1xC3bBuz1wZakhQK9zpnCYI6jLgexaQPuI/12b0yP9zEFVgA5dFqAWr0/OIBK7jG4PXFmMTrUgxvtPxVGEXcEyzRy7YnTJ4hF/C2b0F13H9fvuuy+73PC6CwF2idiP9acOBqJhzcqdd94pTHYZ6lcY7IZ5drFoe2bJU0PWa/b1RftWDMaVFqAyfaoQZVODsFBI6qfFsV4IHTeNLnWo07GoBfjUiRhilCjd/s6J7nys7mAwm1jGpyar09V6argW9QifesSx/ljbzIAtWya0SOln3RwVIKPZbdo5LR3rtxjOeaS5lV3msiu/kitkFmF7rD8FlaAo5GQprUz4dClAdok7fGAX/t/+9re3x64mjpLvf//70UNc7FowkV2BS677HHDzWK+gX//61/kPWKcx8QrKkcsdcTHKtHODtXh9e6x/YsBx2UgWHbVCFinOZLcDWXUk0mP9ccff/d3fYSOL3luYE1FvC0wwGp+ZhgM3tmeuLMb2Rz7yEbGgK7ssCjMms+V+BOPDsc5hzgpiJB/84AcFInd86B14TvAiZRcI2zNXFoyVzVhamCpRiokwwc4ulzhzrKanq2gCNItOLKjCB+a0Ati6yRMsYlfU2zNXFmoJtZRbMMScBdMc4IY1l6yP9WLWHwkGoE9gipEV8AJZinligzvOwdszVxYmgIYklAcg8qAQKzKIVOzKpso9Vm/3VsYWgaFwhHlaIu9WLBzAqBoCu0fMpojqNiK1AK8yBCOLmoPqYFeYvj3W33D5/Oc/L5AKX0OwqPMIkzn+gJTFGtT2zNVEu8YTPU1Ecsdua3aZkFbW2XWTP8i2PXY10bGVgGklnBYyy7SZJTr8EbgFu6xvz1xNvvOd78gaW50E6Le2gLYuYeFTvNwQ5rH+nl3/ST+L8GRCSbIrZGFmt8DZRa3tmauJ3q4oqHVqxRl0ZZq57HIAV2MsOdZ/0fapT31KjKzQ7xWUMEosgMyQNevileLtmasJHvZW/7LTPy1nV7BOsOIVO7s+5RGfOXCsU9DHP/5xVihnyBtBx1fSqzWL1iIVr+Qe/Z8wWPJjLus1+4byrW99S+XrO9pQvUChVjO6Ru+fyrg/Z1ax1/6bgZeQj370o4aHHmF0sciczyzygUUt0rcsWhioV39vcQhgogOKTtEssRA1uwIUNYt6Bx90w6NMU0cx85t+8BImdB8iQEjqgAIUr/B5cpRfkzuKiZEtJ63auunFkGDZZSi7YrQ2dLfHribOBB22mDDhIGzhkgMaLqjFyCioyVH+buGnP/3pTu0OtSa0hZEjWAtnI0Yt+AB5po/1exNqHWFZxJOO7DCEc5n1CeRSzIejvGl7+TTYMidetHHqgrD0scsK2rALYYujvIJ+85vfpJAJFQpDC5mVO4sO1nJNBA5tLm2PXU0oFybaiIhd4ViAOiRVECJZsMulo/xVRlhBkn7cUC8sssuEdtTvNSxs4JKvnBS3x64mdEqocODJroVw2EUkC/FisgI54sH6Yx/7GP3YIij68YcDEip9FtKHru7zxOIob4POuFClkFo6mfjwhz/MHKM84YD7hEu+Otaf6jBHP+gASLkFSJmDqq8sAG4hZA1he+Zq4nSOjeghWdKKMOxaoJDM4owMWoDCtqMc5dFexYmLCeXArgX9MLQYAnOJ3WO9sdAJUukThYXyB6NqhSfALSAMVQuYH+Uv5PcHvKIAqZ4GRo0OW5gQMv6gDdES2dUVt8euIBq1ztavD+DZgnV2BQ7wfi3FlhRzYHvsamLWswVGnzA0Wdi1KMUW0GbRQuBH+X8BfO1rXxOUCaUEBGjBKCKxywfUZdfCHnYttseuJkjCivSJVCzwpJlpl+yyxYEGqJtH+atnTqcMiZEth6vsyho3mC6zxAYIk+2xK4iDpRAofOCBBxhVI+y6RGOvo+yqTUyWWeXJk6sfLDFWYeIkYCl0QvbJLivsgpQb7MqpPUpJvWxPXkFkhyoKhSlAFvtk0Sdg2eWDqNkF+xH/FtiSfy6yXrPPE5WvSHQBzc5CX1A2CkaHUsOKR3VpGaq3XxAaflf/gwht3QihU9fTAVlh1yejqpS57Pa+zaur/3nd448/bqCy4tDAhMZXJ3LHpX7BtOjEXo/Wy7YnLyt6Dc8dTViEp7au/elWRIsUNYvM+eSGBUCu/itAwDp7QU+wLFLLOlvCFLL7sswZFn26f/W+D1itnKrGqqnDB0iyK1IIsAteX1m7f/V/CPfb3/42c8J0JpA7dpkwuWMUfiKVSN2ErTBt2J68gohLpEJw8OrIRW3YgpoVFcQHmWWXA1f/m37MISGLn/jEJyApm0KWOGiLVGjxmdFG+NX/FNRrNudFxy7msCtAdxxq4SxwFiHMOn+YPsp/2SFfKEGbSmERQ3w6VSMqu+5D3mWnbevtsSsIt72CisgrNOjE6OCLouAVuwW7UCUIhkhX///heYlNG9My5egMSRiyK0zRsShAn513j/IvYiAhJKUPaCxKnKiRFlfZ9S1GueN+pbQ9dgXhfwq97FHOBLsVYPfZ5QyXXLq/PXYF+eIXvyh9QPM+D0B2Y47aAS+QWQQ42AWoBV19ciGDwSGiGKJSEAZtYGjBHH+QigMI5iZMtievIJwnAuxP0RUFuzFHaEoGzsrHfXbxZ3vsCkKPQARYyVPOtIjgLH2+YleL4IbY9aKrH6xNIgnSDRgVCLu1uN6rIYlRcsqulugmCm1PXlZ+8IMfYI5YAMuorOEkiwB0U4oxR3QCnya8PXkFgZi6oBCMeou1kCGsufHBTXbhLN1ChvC3rvyPBWom4hIUwqBo1sUiRsyBAEZBnl17uAHh7cnLipdPQdEmcWxZCERo0mrdscQnqCEglVzanrysmLb0iAKSgqW2kGVWtQrWVyy6KWpkdv/qv1hUdPBki1CIri7lDs4CZ1fILtkVOHZdnbFed2HFykOn/0iehaMyE0zzgRWfomYXDiK9OrBQAhe1HcURRlGw6ITMKJFKdgEragSGwxH/E6Ql/4xkvWbfRFSvUtEOtAZVqiupJYsKmKguayWk0oga05Sv8iJheLClgNWnBsSihc/aBIvMuaOJaCWcYdQAuOLI0dZNTdqoqvHpCw0AVthlkQM+ReqOJnXFt1CNFVBsGdWFQKcw2QUpuyLVnowi37JLrvjHkl/60pe0V+ZMHdo6GxmlLHaI0X85wCJxhxtOVNvDl5L+ITQjR2gGtniZYFdcLjnDAVD7lHE3La7+HyDg6mc+8xm5g7DomJZZsTidWDNng0RbCJNdqd+evKw4HvXOAC46mWNLOBY4I16RVkTIA2cgX/GPXlUltaJjEaQ+6VQyjl8w9Cl9LoHMH3Yx9opvEf07xsJkF2G8/cLQmwPlovPC4JJdbriDzAK/+gshbSJVffQjhkV/KAFwbxG+tVAdcO7c4FVqe/KyInHcptMnhgi2AxO7MqhwxAhS1OIGPl+dPHInNM5/7nOfk0qv93TCkEWk9Ykw8GQxSnNje/Ky8tWvfpVOzkMVS9lFXdC5A1KXcidqbki0VwhuXPG3CR6vD1BIrQUTDDHHKNO+dckZLrkj0ZrV9vBlBSU4H2gAFPJACl5u9A8+STTwJdq27cnLCs8REjFEhCSogjDy9dnPfhaFqh2kimAqSHluT15WFKAmIFIlQCe7IFUaucEuJLELqhZKSXPYnrys9E8cRVG22FX49PPBnX5zITSJntq54mj2YlaXBinELDS3aXS6HDcUkfB9QoMbV/zNu+bMENGufYpXdMJBWhaxVJcQOH9YRF1oS/T28GUFeVCUTp9iEQWqYCZbSOtba9HVB9iFyfbkZcU7M52iAyAwmfMpUiEXo+pg16Vt9YErji2lBy4WhUl65WNXQn0yxAF27YE2ibTbw5cSbYTz9ICUFUK5eMWCohZ80Bx8y27EluLt4UsJukoTQ8jDlmSJ1KXQ2HLJH6bZYlexqFaxbw9fSoxm9FPvwFRuDsbWzPkUONKyyxOfqGUhRtuu8m8J/+AHP8B5moUDuo7E2aXfWnRCAy8HEBWpbL76n4ct+Wcq6zX75tLU1BRqTD4rXVWtnBSVPqKqlZzP/pTbwiTYnr+4aI7qU+9gzrxhUZ/yqZ7Zpdy36rmqVufu+LzKr1o1HSacSMSi8elHuiHTNGuCImWXOeOnYNnVR654rGeCzzzX2TtJsCg084ZyPsCWXRbZ5R5grzgDDIAOlzwXjrMCK5qg5Ioou+K1hjyjFsbP9vClxJx29qLKnJY+dnGGThaFJmTOsCtSdm1r/GwPX0oYMgPEJVJqHfXki136hW94s+JwZtCyC1u88tVVfjHkKCAimtnlv3qhvKghXOH4VvrYVSbcAO9VXl3McllDHmppU2tidIihXPjMMaR8cIljYEdpqbzKZHXAEpo3BMAioYM19no1Qhh2kVPsPOGVkFGLdcTm5/b8pYRa74RgBKaIsMXCzXlR4QNDYsQlxevmFV/PMOGJJ56g5wtf+AIYhSlYN1mErU8wgh1zBOtbzgBhe/hSIi78ofwrX/kK5YJCGGmVR+nzViN9NiAMT0TKGSBsD19K6KFBNilH1C9/+cuUO753pBYOLgnfpwqSUOQR6fbwpQRijFJFIbVy5JMh5hhlmgPc4IyvOKZaGd0evpTgJLaAi12tVeLAKF6QAha8QAY1wMEOfEdAxN4evpQMYRBDXEKmfGgjazzxrT12Ihi7iL09fClRGuhHJ/KLVCEoB0FRzqKvZBkICGbBFou+2h6+lHzjG9+gVsqaHRIqWIXvJsC1Anb5wCXBwtOlpneVRucVncKaWA3Np4jAqLHDll1c0gBhLq1gx5+r/Aact1QxQblP/lPLHMIIuV6EqHBmSOy+tZ8b2/MXFy8tDFFiGMGTcpcM+XSJOayIsd9ZiBSwQLhiSdIgffCkn1rWDWJswSWRArwyBDu7nLH27fbwpYTDUkmtYhepKBCGXWUiTM64E7U0BM6oU/u3hy8l9DAnRv6zyK5Ix677jluC0h9kVmmIkTPbw5cS3FALzDHEIhPCAalw4CyJwhSUT/3NBmUC4av8VxX4wCJV/Oc8c4RdDrBLuXht8ClYCLCL2FrQ9vzFBdXpYeuhhx4SEW0scoBFaIuUXVWjZGzzCWoOYNH2/JKnnqzX7IPE9NIKtaReehWtVqJxKCddw2DQqhSYmz5VoNrrq0v/bVUNi8VmWONcDVvUKLWPmhe7bClj91U7i5f+T3y1D7Y0XDEyZ8hpE0aOcNzRxWrQTNRQfLLr8tJ/TugUIiJD1CdzOiBsfVILanHxh0V22RJvDdTi0hadYtmSTTqNUrZcmm3UgpoVbsgmu9Inv7onc+TSf43KiUdQhgFthoq4YAtkOn2KiHUxsiubvmLRTmm99F815KqkODeza3DKoDDZcmnSN9tk0znDp6/kV7wsXvot1FlQOL0LORyIgnJxBTVsfcLTe2CHRVHDAYUu/Q+/OQty2JuJT68u/KecZqadLdwEuGyyK5u+svYtTy595P3e976numWTEtjG2yjEImx7aeGMbLKLvex65NL/scM/nP7vwR1BfMIWK6jFUoEwjcBs0a9s5dEaf2yw+Sq/MRECixKkUuQUjJiJPJgDZJeyxhnZ7FcM7njkKv+9vWL/+te/LkFaJf70mt2LCtPaIDecirjUW3GvwdvDl5LyCC6tsmzqb5KIseBFYFCLEZI2iJFd7m0PX0riKlVipLbXzl53GWWaA9zgDIs55nN7+FICSaCBK+h8ghGYIAUseIEMatu4JDop4N728MUFAeo5lPhEDxZRBT3QhjkUYtolN1CLS2jGve35i4t3MxZFBKjIz67MWisNBaJMwKsiJpss6j8e3FRcUBQyVZKltKkd8oNR+buvFWgIjbOyGc0u3QE0K6qgJ0E+wcWutagxisU6rT4DZIFHM+Bfpa82ECWIZnBRTqE5IhzW+9ZXTCMw/sDW5ktPK7MD+WUKkgCcwcSulAETtsjjK4zlhkvY+urSZ4As0kYJ3CQIM2cwsYWiPm0wpBSLpEu0NgXbTcUFBTjgAh2LtMGTXdlkVzbFrlIal1EIgUFdp91UXFD6I2W2oNqBzVqMbmKvuITDFjB9coNpULOIzJuKC4pTB+WggyE9LFqrEbHIpnh5AlKEYc5OKQCyy0u/fyIAPWwZB8IRl7VssitS8fJBXG6ybuET1L7Fok3FBUU5s6gQZFCYbGk4PpmQTTi7z66booYto6B2H5k3FUuekrJesw8VDbfpolmoH6KQlJO6VUgqTctQ7RYaikpTchaKX21f7nCv86rPhpDq1Z7Y0iyYYJ0JDjDhpkZjxLKoBbCof20qLihavOEtKHYFxQG23GRL1Gxxhi0b2LJBA2VXM9WjNxUXFEGZYVSZK1TpgGyBmi12NUp9SkSiZotdDVTUmpoZv6m4oMig6cWWiSJfuryOKWoRsatpyrKIOMaKzSyyy/qlf2EvWU6WbHXk7RgqarbESz+0fXa8MPbcZ1fs9m8qLijwNGhlynkdeqyLyPuJiNi17rDILiuybKd4YW6QbCouKPB0tuN/p2d6ROT9RCzsssKu2GWZFXahIV50vfS7PQ3f/e532WKXFXahKl5W4OZAI1+45EiKw3BWnvKrWC53zvYiwaJCZsWxCWLGPCuwZcWLEytOuqxgJvwdi9WsSkSeTcUFRVxQZQtisslKv1bolUl09IsOu2RTYYoObaCqZDYVFxRHJcUld2JhixW2WMFYVmSQfhmkX3QIgzlaE8Yyuqm4oMgXz1lht1+6iYsVtlhhi3626IckYQt59CI3NxUXFLXvcbXPLivWOgC1MGSFWjAypKEx7aYNEmrzpY+DbFFFCVUUWlPOBEOF5iYH6LeBS2z15gb2TcUFBW7UAoraU9g+WGhMl75SCWqAg50tKUAtZN5UXFBEJBz6UQIx2Cp9pZIVsSBS1EUtBEMzBYXYm4oLCkOM0s8uxBQ4K8qBFXEpwCJiS+GwooiUkkZ06b/CLS5W6Bcd/b1kKnmxwJAV6PX6pzmwpVFoF1ripRuO6HCDFXZZER0romNFdBqd8mFF62NFu9AMWdTeNxUXFMjAsObsE2IyyIoMwk0b12a1dI1d7thi1x1P+XZTcUGRF0giJ8QklB7YGkzsioJdVvp1Hrvui9dO1iGwqbigyBFWqAueSyjcWBcRuz6h7T67UMVYsWsX0IA2/DcVF5Q0SCX9PkXEuogcb9jCXrbkly0dwE61z8M4vKm4oOCk3HVYQlcxOj5BT0lCmF3f6gm4xC5b0GbL56VHVZ5TwpZPEVElUwqTLW2NLVHDkF0bsMsGsXNsU3FB4bnDA+fZopYtjYUt8bKFxm5S7qYs62+i5owGBYRNxUVEWfGZZsKiT/liQtTK04IJtli3YIgDopZuIvBNy5KnqqzX7AuIgjHaVa9aVUUWPpWWWlJsSkvluzQDlJyOpgvobm7qp5d7LaSzs3ujXbNQxqxrUr5Sz8xZ2+C+4q/XKHs+mE+bloNFN/GswaCJGOqUiJdazbHhxJBgWWGURS5Ze8S3FubfpuhgMWi1KsPP+DHYjB92gWbgAVAjFo6o7alZi5otUefJJf5bKQOb8wan6PpzKnYbrg1an1qqOwawb6ENDbluOG1aLiIySJW42GWF50YpVhildHaIMeSMKPGybjMcjAc+XO5wL2v4xltnF8yhKt6KDnQdEGmGpzt8sIcP7PJB9jctFxEmQCojwoGYcIw04dBpwRPpcyl9sEUbFuXRWmYdSTctFxFKvKKD0dkL91hHyN4chCZYIfOkcz/BIjf5IwubiotIf7ZsITXf//73zVrnS9AhMBh7AXba5hUEgAxYnggZJkyn5ELSS2+v9ApTUbDLuq98Yr47vkVOCPANAtBALcm9XLeResnyyf/+bNk7g+icp1kRL4tO8yjap9hRVPHyUCltWi4ieOLABCsQwU2aZFCa8oFmPoiODzzhA0wgzy4E+LBpuYgIkAmGQIQMTCMh4YlLRZoPsqZ/8oEnfBAdHzYVF5QBs6CopTwfmGOU6XzgjEuO+Qoa2vum4iKCKtWUZIELaCURjHwAaUEBOR8YAj7TipQPm5aLSNEpAWSQGsRAlUjCB2s+oFBJtNP+fBAgHzYtFxEdlf91UbQXr+hYKWqlMWWiZNyBCYr61k4epuRCol9JTR0MVvyHm7aj5BX+/mVevCg6pQqHy/1dD6mpacuONdHKNLRuanE8gZ4WAQGeQAAacK5NXVS4TZXQhNNhAxnqYFo3biicELDAWJ5AoDK5XEetpiicQc+6O0LjgyoAsjuCFbLweQUBnpSLTctFBGHoh6ek0OCTXSNPOHwQDh9AOl3UHaEpUmFerqNqbpAEIHJCrCGrTGDLOrs+WXHHIcS3MJlOjlqbloMF8+mHGOhgKH30sIv2sia60OaVomAXRdl19GIXDpc7vwGHIXCJlGCRS4R0302HRp7IGuTZFZ38QgPOyuQSPRw4rAiQKlaotWZIppjWUog1wriEhs0IY4MMOqluWi4iug0rbAFNLL3Ss04/eItdsNwANfCluwXrvt20LHkKy3rNvoCYl2q4Cad9EPWs9de79S/VpWcpMAU5jUBtq0aiGi96GNXFtEgnEi1Sm6BBo+SDSmZdB9E9bdBTdGp2dW129S9fuW+b8bnpOkw0dxr4SaFWqPmKl3WjTizCZJ0hFjlDv6+0GJtBoWvbtik6WDwiKCNH2zLegMYuVb1va80C0aZFxGg9lF2ockPLu8Q04rCnKDHtaLZgXXSsGwDsgtGAByPHJDeomSOcvOgfwDpyCcpRz6djLg1MMNqhQUSsa99uohC7KMQxoUEbbTTrTdHB4iBLrSOXEL73ve9JonVEklzmEBVzWAdmhxuf0GYX8nDYFB0sdMqUgcSuGLnNIlagH7XmNxPUsm7msU7KKbtg8T6wKTpYJFGYKIGfKAQl+oXDegoFonxAmj/g9S2jHpHHTctFBNV72RaaQFAIMURN6GRdOGyhELuS6PDNumMorsJn03KwODeLEYCY4FI4iARGYOo/agQ9gMk6LrGOQqyzyK7NHk/P4cJJQlXYUoi0KOQrSbQGI+VS7IgGcGBKn0uPXO4EwxCF0JMdgVDo2EehGNlyakRd2/ig6PjT+6FOqHaEn5LDhUJJBKMc9VsMhzZJRCGBi0hOkaSuq3D0ARmHvzva3SV+cUk/hz1OCVUUUku5OwwxxyjTHOCGzVzq3dg2FOLwpuhgiRIgYhdcQANdSQQmhYAFL5BBDXCbgS8Fer4emJILCTYKhEJkoFBE6MG6zLKFNshjGx+s+YNa8o4zug1JyeHiXR2AFRfCU0iVEhCI2LFCaXCpnjOvu/BXSgL0SHoOF22Nwl6EPC4v0idH1kqedeixTiQRFJpDr7sybvOm5SIiCkgSJJEdMFba7AoHQxolvmUd4BogCpVELm1aDpa/P/2/5TPkk9H6MzAFQn89RxIBqKULLX9kHDL227kpOligJIkQo3YGUP3ZYGJdUbCOwLaxiLoqAoWsZfyi5ygCIkmEFSZgnbywCFJRU8iccFjXWHDJTZUoRjj3K0XWN0WHCazokUeFAFXEEKPjhBDYZZ0JFAIvTrJuM+scq5lfohJhokcxpBWrL2CKCCVYF9SgzS4KIbPQGBIm656yZ1N0sKActWx1+NRaJY4PPl2yDm2BQJ4tdiVRbdrMVRRifVN0mEgEhRxGDDD6lBdWKBQmTzAnqGHoPrQ5oxNyTLyi1jo2XYeJJlP6eEtoEwi7YHRfEtlFIXYlF4AwZ51gmqjx6tL/icqSJ5Os1+yLSaNa0So21aXsFaGKUvaqWvmpMQVZl7HTp7au/HQEl3UiSjZ1B4iBxIQTmDahSSld5rQ2JjRlzUV3VvAauq7tvs06kTpX+ezqQRrNpuswaXBqvtqKOUeDeCmnR9QCFLhYmhns2iAoUTNng69M5U3XAaITMeStwOMmAetAc1Cb5qhBmxyCDdVmBrsgZZdjF50Qujx8nC3g1qHBcUFrFlfNkV1B8UHu3IGnfkr4aY+oL3rghpWZRNjtgIgDPnkCMSYQSWg2iJpdA8lNjgnNfXLRMe9ZJig3zFiXNUG56aAmavPGmiGE8ZV0i9qlqDt8+NwUHSZOJAB0jJYvl7jX65Mo0EZmRQo31imP0hIqiQBpEPoqVQcKZESEG6zgm/nnJv8lVL46/wlN+CK1QdSc5BiQRe2p9BwuWOfczHOxgJT/AmHLa4x8+coGdQoHeGKyqJWPqNm9BGc8i2zOFhBzCSKhIbw0CcFCyYha+Wg7Tt4c8xUiCc1C1Ok5XJhjVOFTQnlvzqrMu0pRdxAEu8s5+xY1SH2VngOlZ+HGkFcvRpmmHNtFDTF7ippyie4wilei9roo1xflDDKw4ilqXTKhRpiTGoTHRlErBF8VtVYmNEyTbr1X1KdqLiA8B6nHKaGKQmop9xVDzDHKNAe4wZmJmpOelehTNYcKGmA4cEAEKHABDXRUgXGiBi9zoC7XwJcCiVC8F+0zaRCaVHoWJRgCFOX4gDBo43KiZkjU5Rqk3EjP4aJjeBDJKcFzBShqJaAQRE250oCbrywmakU0UafnQBFamaJBKhtSChy2RQ03UWsCPNEQRC3dRc2l+uGFBGhCE4JUah0al/alnLFXQ/Ot5saW0JSA/aK2ASASXdTpOVBqHf0qARv571Ig4kVCbBGLqHVpzZwVvOKYB4Wm4fMELKk6UDgJUgr5z2dreAoNS2tcxpOoWbeWL1+BVPjGGZzlelN0mKClzkbUIIWikC+GEAPIKAFtNykXqagbzcIEiA3SzYFN12ESZ/is3iFGoMSE44R4RT0HOV4hEvA5JqGidixRI/DfdB0mVHU4UWWSiJadHDolUigQ+QKmqMXuK0RqSOEYx1TopusAqTuBBUQ8RzlBsYst7IqaJ74FqSxTzq4NeMLJOgZMNl2HCYiwjlGfjMITS0Hn+Mcu3KAtasEK2TaMEjXOiFo6RG296TpA9AqBMCEEkPoUBdCEFqqiFiMqsitq+NssLjdthjDHcHVTt+SpLes1+8Kixajn5qhS1K3qYqpRsVnXYlqofz3Ifu1M+ekR1a0Gt6k7QJzDKNSkalWUdKfhp9RpU9WKXP3T7ys32TUttCR+6koOCpu6m4nDgUcEqBVSZTAY5E2ghjHNupib7HIJAvZrefa76VNrA8Wm7gDRhTsIepCfQqCfaMpaJAy1SGOJIS3VTXZh6BIUnPGsmxd6t/cIJJmwMFDBpSdqnYJlAows6p6NJWjbJnBBuamV67k+N10HCN+kwII25qCKOWYtYnS25gyjCGMICcpXgJVcT7XZzQsF6BEh0EODwxC4BIgw9AsnPgC2v8YpLmC66bhvJzKDwp1N1wHiZM9DC0wQiwShQac0x1DaIMklyXKAgJ6vUMU0Kn0N4wv9slkgpAOoS8DSKXfywgE3nRswtj86MwtlVkkyURHhmHpJ1YEiWXR2KgIUMFUKuBzjcEMsTFigcWiDApL8sVP54PaFMih3UgDYjpW0OQ8JGUkcxYTmpogUiOjc7LQEbcByD23IqaZDBQGcuWlTF1yl3E2NhTlYoQ0TytBN1u2UO8xBMxQSr8Pr4U2GwASYFpCBoTVVPIehm8jp05kGDgCXxH6JIwX8tJM/SuZE0cFCCaPIhpwOUgHLeSUJWDGKFIZuih1z4IC0oMAuNwELgRNFhwk0ZM3C45RQRWHvtG4yFLBMc4AbbnKJY9zjpErp8cMF//EQOCDqzRZoogYgGIFpT8ACGdR2gh34gHXTUxc636umOhjnqUIGlECMyIkq4JKmgEUkN8UOCjigWZP0VNOh4inCc7lAdTqZQH43FULAss5cvdS3YQhYpQRYRXqq6SDJQ9lRwgpZOdOG6oBV5jCkDeAWMHRTQ7CTewAPWEWx6TpMwlCD0qbAKyImRCeJmCM0adXcbOCPdPMwcroJWDdJqg4RyZK76otdsQCWHuTEBHeQVuumHNqaOXMw1N45ELD8xLG0HSL4AC4WwdV40uVEzQ3xIqeqcdM26QNmaPc+b78U8GrTdYBwWKunXzOkQVlxWESmVb1UDxGL0NBYrpkQss2SHrBuQj5thwi1YsFwOtkVLGyFQxvlbqoURuVOZgGLq8jJnG2esse73KbrABFg2uRFUMAElwTxwU2XypBFwCqQHCMwgbOqR2Pm5H1Td4BIAUxAhyqM4jkmAA2w4nWTfvfLMsay66Zgoeo+XoECjTd1NxOsYAI42hdtsg8u1oUgcL2FNnbdjDCsQBuw7DbreaKCNnUHCFc5TDklFBLx8gGG7CpJJlqIFNoAsQY1EEDB4kVn/ZInt6zX7MuIs5rCU0g6lOpSbC71MsNJg1OQGrpppywVntamYlVmPcIedatH6Inm8abxZlLvqP71R596ijaqqtlV6i7rO+zqOLziEnOkhY7j5qbuZuJ0IjSnBD1aExGgS3ZpNga0PMIZOs0tLYYn+h1DTBgkNVmBe2TTeDMBmkDo9JSBByXgNAX1ZW2ruc6Qlqqx2umMpXt6kG8WgbCpu5lowTy0gCT9QGNIQhvzGrpwMlGuGXUHGm46OdkviTQcfsKgE6rgsnCSpsT8ABS1jXnnCbHjD7RBykM3zT8BMuRBIDgfbOpuJnRSboF1zlLyAjoByqDjJqqgk8waJOwK00S0gSGwA0GWcRjr0naIyI6ZTa2sCVA6jFI8cQfCMLQH52kOvca8MAHCEGDFezhh6FFcFgwhKqMMebyzEUrASoAi7YXKOQYgBDJ4C3x7eHKq7CCBFegwDRmABlg3BcITtoTvEm+dyaAtImgL0CnKHoYECAQaTpXdXDiPDELjrUtIKhBR9KILScEivNIWoJT5RBXkESAQ+u0Go6fKbi729xTPmYYPE+7jJKMdxF1yhiGkZUiA4nVT7IjqKZCe6DpMwOgRnCllMsVz9KswwasPsAJMCxl0E1UYQqdAULzK0+IQkTJlZUG/lCFeKaOED5AUVL83cRNPQCeVMHTpwd7PdQmXB4qCgpsHs0sVhdRS7pIh5hhlmgPccJNLHONeIIjaVxaHiDQVEXBABChwuaQEgGAEpkW8rdIBDnaXUsBQXc7lgRInGRryowQrlCDJ8BYIfEMkl0iFWvKOZsiGtz5PdB0gYFFKEZXnDO3Jbw1JRRFvgcAo94a3SgkIYjxVdnNRqr3a1a8UcqdnntMjlUN+5Z9vLsGLaaxoFDTE2wOF/7yFD28FeNquTv70mBIByhTc2KrKgCDY+q3Q4i0QDi95hjCT5yJCFcQTIJ31K/dDUtdCJ4b41u9uOFO/NVni7YHSvJYUKavSqxEDCGgKRIDUijToeGgDtOd3N3zjWNpuKjDkPP0MsYuoRowwRY08vYuy66adSAttFo1mAQJEvdtcqzlE+AxJSmSfErF4llqX3KBKmLLjDuVwBgI6dWaDcEjyDTIpvKmIyFP0o4QAwZsJ3HATdMgpNGmlnyFZoxxv9QGx28lJJN/U3UyAQ4kY6QGavIhLOAxxG1x4SyeeEGmSQWHyDdqhASIecmnTeDORIyRkkSHchq0FuzQDjTOoompwEqkEyxOXMGHXJ2dgUi89ROQIwRjyCJQssI51hsAlUikDLMSgzTd72OWSAHklUm1B6qG9aVyyZL1mX1o0EVXtaKL8FLzZoH1oYTVWVacC9R3dR5WqQOXqrUDLULGahSalUNWny0MOUl7n6pg0K2ZThzmdSxNhUVW7VPa6jFnFLuuMMs0iuy4ZzeKBTVw3oaGpY9JrrFy1cEkDbToRuy71el1Vv2PXJQ9NEd6yq7+73DSeK+aNQBwXWIGnSHVSyLACz1q2FsaKoFhkqMYqKOBn1yXTZuSm9FxhiBWaO0mzDk+aIcYNiYOniDTrTtu8gokBxq5LXjXVDjzoe0p2LOSi45HQGGrq0Cw0I7/GDXmx2IY2vGKLe+67tDOF54vzEFed46kiMDEhDFeqpBJ/XEqutVQK0KD60pe+ZK5IpWHjUpatOUnJpvRcEZ1Hvn76Xy26BC/PhSAil/IiZJqFYNZSC09HRoXAGXOLY85DLjlzqu8mwlupt4CMNSp2+nQJzzmMyqM1zRYuJc7olVYL52afsuz+IUKDMhQUBroUiHxRBcAuxS5GXgHfpUCqBbB3kpOIzuKHiERjI1WKyKVqcgdh5pJyaZUpe4BPuXpxyRwP3QF+WT7VdxORBQy04HB51Cu6VCOUzCUedohxKY8AgT+yuRTd4XjaTC1blLgEryYgj0EkNWcuNR+p7FDoEpektSwfIvxEOYt+UyBT1aPGgpAOZ3Mpyy6VRpeyLCiQesFzCRn3bypywcl+beFxSjzrPrWUM9Eloy57qeiSY9zrHdXmA+udqFZggoVdl4ACF9C6BCMwQXrmsrqQAs9Ka29Wh4g6ivlSjwDgLY+dcZEEVVyijSyj0FwCkK0umTucnwzZDCKQIjmqAxnt3ZnXP0WhNOxXJooF8nNpD2y7PERE53Flq3iZ4zDlilppU9XcEYvLNmsFstwlDwHCH8+eKru5wBOADEkQVS7LlAThuVSWKYS35pVG59KYkEf4dynpCGBxUyn1EqHxegq8XKVZjXADIQVClRjLVGNLUBq7S01e7BzDulN9NxFDBCZssShTNHvQuOG5S6gCENvlV8vijLXN0HAJxpMZ9sEPgt2ltG5KzxWuwkREPqlyWU+GGFX4KSL50vSUGDxFRLPYhWxbY6splsLzRaFJjWfZkjjIoCvN8HRJobqQVowCO0OYr73npMftUSOk30bdVDQQEMGQCYcfdhFSaOLqSAZtofFKY6GWV0JTLy4FyyuhcePwgct5xevBTlkWDLnJCjfQ1SUqsiKVsuySdVb4aeFScmWcJ5vGcwVDOhV4RC6ULcQE5dDlUs+EmMKHp8QxB0ZphadL/JEL1SpwWYDVpvTGggm0sch5mPiEJ4vsog3NTEscu6zTzLHKhzngQ0PiVETv9pvSJUtOZb1mX160GP3FDFBvCk91qU8vXRqN+/q70W6PitUC1KeCV8kq1jZVqiyddVSvMaNKN6U3FnNR2atkj2heepaC10+Zdr9BSz+L/U6RG/RrAS71Jm7okqz71EG4vem9sdCgb2rcPO/ViNsCNOp06vo4uxpN48Q2/ohLZxSvuPpVopZnQm9KbywCISarSUCtBqqhm6zgFYW5BTfha/H85wB43dTEBW6hwemJLNoG/E3pjaVMWfikn4cUevWCIf0GEni1aaFxQOOujwvQwNBeueFBl+D1eDrPEecMyIMdMp1UzAl6uMpz31JIv4EEXp/ckD7xQtUj3LCQDvBCPp3ni4xDiQaAuJQ7+HSgFyyd4HVfXDgjUuNE1HzzIHCgwTduSN8hbAFFNBYmrjLdiUFc9KMr3OjhA/0WzAkfdODlFSseRzZ4Cv9U5XkiU/nPQ0q8z3CYHoNW9bkPXnAR/rh0k36OgdcnN6SPEqgeOBeFw21xyYtLn/ynQSAu4548xlJumNnugxcydqKTx7mBsSfqbiYUSoq41JFLGIrUQjjAlKCBl/8SB17F0oHA+Yk5J5U5xt1UAJV+iVB9CI+WLt1EFQvwUsuW6nApa3wgmo9LN1HUU+D16c750uuEhZLnswWHnXW4Ebx6C6jB675Le2IX9goWpG3jLc5Y3FTsl3fU4rlLPYoS+boWXumDQPAqB72Ft+B1KcVtu6mIq7bgQY9TUtVTSzkT0ZI2pi24wRkuccwlJ7lKgvemArdoL0xKOk+7BNrAC0yQArZtHgH4wMthC0+5aXG+VDg+JT0+8DM+BK+bqIIwaOMShcINqdADAhLnEiYHpg/P7URpDlOL5HxGePAKli0bbAMvHxTItfAqpYH3pgI3DVPBMqd4PVgdKWo1VVOVL3xQp+5rAtCwM1r6BLW8B+9NRaUDxH5NicJpU9worcKRL1LVuMkN7Q684sK0PbwnGs8VmuWLNvrZpUfWKOG/QEStRXPDArzAhOHAKy6PB69WVnM4X7zncBjBOhRJEP1SL3HMiZ3+4NXSKTSe8JBXfJAF92uqHg/em4q80M9VLEVROi1o8DiglFVDFoXEJY9wo1z4wetZj1T1OJbOcwQ94EmD9FFIjwfdpF9cMgJebogUH0StOriBMNAQLOQ9SI9tkpLOc0Rc5Qs+PNdbWJELCwp9Sz83YqmbdtovEPA6Vqk+8IqOD2RTemNBAOlTcTKojmhTRJhAM1RRSGgOgfDUW7jBAfDKstyJSx5tU7zkkG6GLR5UaJKIZqhi4VQgI9JHIWBd4oxtAq9J8s19dOKt9PHWQhZ8u+m9sdAMRmDSLy5q4SZ3wOG5eFnhBovglWVocAOMtuk8TINXsSiluuiSJXtZr9lXEkWlrWh