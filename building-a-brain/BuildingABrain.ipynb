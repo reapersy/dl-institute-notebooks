{
  "nbformat": 4,
  "nbformat_minor": 0,
  "metadata": {
    "colab": {
      "name": "BuildingABrian.ipynb",
      "provenance": [],
      "collapsed_sections": []
    },
    "kernelspec": {
      "name": "python3",
      "display_name": "Python 3"
    },
    "language_info": {
      "name": "python"
    },
    "accelerator": "GPU"
  },
  "cells": [
    {
      "cell_type": "markdown",
      "metadata": {
        "id": "eTAtY3XZbMeu"
      },
      "source": [
        "<center><a href=\"https://www.nvidia.com/en-us/training/\"><img src=\"https://dli-lms.s3.amazonaws.com/assets/general/DLI_Header_White.png\" width=\"400\" height=\"186\" /></a></center>\n",
        "\n",
        "\n"
      ]
    },
    {
      "cell_type": "markdown",
      "metadata": {
        "id": "4jUb-j_RU3cE"
      },
      "source": [
        "# Building a Brain in 10 Minutes\n",
        "\n",
        "Many decades ago, artificial neural networks were developed to mimic the learning capabilities of humans and animals. Below is an excerpt from [The Machine that Changed the World](https://www.youtube.com/watch?v=enWWlx7-t0k&t=166s), a 1992 documentary about Artificial Intelligence."
      ]
    },
    {
      "cell_type": "code",
      "metadata": {
        "id": "Jj9625DV7oKS"
      },
      "source": [
        "from IPython.display import YouTubeVideo\n",
        "YouTubeVideo('cNxadbrN_aI')"
      ],
      "execution_count": null,
      "outputs": []
    },
    {
      "cell_type": "markdown",
      "metadata": {
        "id": "0iahPLqS7-H-"
      },
      "source": [
        "Since then, computers and machine learning libraries have evolved to where we can replicate many days of experimentation in just a few minutes. In this notebook, we will step through how artificial neural networks have improved over the years and the biological inspiration behind it.\n",
        "\n",
        "To demonstrate, we will be using [TensorFlow](https://www.tensorflow.org/), an open-source machine learning library popular in industry. Recent versions of TensorFlow automatically detect if there is a GPU available for computation."
      ]
    },
    {
      "cell_type": "code",
      "metadata": {
        "id": "boTcxf3jUGum"
      },
      "source": [
        "import tensorflow as tf\n",
        "\n",
        "tf.config.list_physical_devices('GPU')"
      ],
      "execution_count": null,
      "outputs": []
    },
    {
      "cell_type": "markdown",
      "metadata": {
        "id": "BfZZ17PkquZY"
      },
      "source": [
        "GPUs were originally designed for the significant amount of matrix mathematics used when rendering computer graphics. Neural networks also require a significant amount of matrix multiplication, making GPUs a good fit when building them.\n",
        "\n",
        "## Data\n",
        "\n",
        "Speaking of graphics, we're going to tackle a challenge that seemed almost impossible decades ago: image classification with computer vision. Specifically, we will try to classify articles of clothing from the [Fashion MNIST](https://github.com/zalandoresearch/fashion-mnist) dataset. A few samples are shown below:\n",
        "\n",
        "<center><img src=\"https://github.com/zalandoresearch/fashion-mnist/blob/master/doc/img/fashion-mnist-sprite.png?raw=true\" width=\"400\" /></center>\n",
        "\n",
        "Neural networks attempt to copy the human learning technique, Trial and Error. To do this, we will create something like a set of digital flashcards. Our artificial brains will attempt to guess what kind of clothing we are showing it with a flashcard, then we will give it the answer, helping the computer learn from its successes and mistakes.\n",
        "\n",
        "Just like how students are quizzed to test their understanding, we will set aside a portion of our data to quiz our neural networks to make sure they understand the concepts we're trying to teach them, as opposed to them memorizing the answers to their study questions. For trivia, memorization might be an acceptable strategy, but for skills, like adding two numbers, memorization won't get our models very far.\n",
        "\n",
        "The study data is often called the `training dataset` and the quiz data is often called the `validation dataset`. As Fashion MNIST is a popular dataset, it is already included with the TensorFlow library. Let's load it into our coding environment and take a look at it."
      ]
    },
    {
      "cell_type": "code",
      "metadata": {
        "id": "ijLiERH_n6q_"
      },
      "source": [
        "fashion_mnist = tf.keras.datasets.fashion_mnist\n",
        "(train_images, train_labels), (valid_images, valid_labels) = fashion_mnist.load_data()"
      ],
      "execution_count": null,
      "outputs": []
    },
    {
      "cell_type": "markdown",
      "metadata": {
        "id": "85SHQpW5yYkO"
      },
      "source": [
        "Let's start with our `train_images` and `train_labels`. `train_images` are like the question on our flashcards and `train_labels` are like the answer. In general, data scientists often refer to this answer as the `label`.\n",
        "\n",
        "We can plot one of these images to see what it looks like. To do so, we will use [Matplotlib](https://matplotlib.org/)."
      ]
    },
    {
      "cell_type": "code",
      "metadata": {
        "id": "sogb0Tt1xfni"
      },
      "source": [
        "import matplotlib.pyplot as plt\n",
        "\n",
        "# The question number to study with. Feel free to change up to 59999.\n",
        "data_idx = 42\n",
        "\n",
        "plt.figure()\n",
        "plt.imshow(train_images[data_idx], cmap='gray')\n",
        "plt.colorbar()\n",
        "plt.grid(False)\n",
        "plt.show()"
      ],
      "execution_count": null,
      "outputs": []
    },
    {
      "cell_type": "markdown",
      "metadata": {
        "id": "8WQP0S79zwHp"
      },
      "source": [
        "What would you classify this as? To make it easier, here are the ten categories it could be:\n",
        "\n",
        "| Label | Description |\n",
        "| --- | --- |\n",
        "| 0 | T-shirt/top |\n",
        "| 1 | Trouser |\n",
        "| 2 | Pullover |\n",
        "| 3 | Dress |\n",
        "| 4 | Coat |\n",
        "| 5 | Sandal |\n",
        "| 6 | Shirt |\n",
        "| 7 | Sneaker |\n",
        "| 8 | Bag |\n",
        "| 9 | Ankle boot |\n",
        "\n",
        "Have an answer? Run the following code cell to see if you were correct:"
      ]
    },
    {
      "cell_type": "code",
      "metadata": {
        "id": "CQdadtT11iI8"
      },
      "source": [
        "train_labels[data_idx]"
      ],
      "execution_count": null,
      "outputs": []
    },
    {
      "cell_type": "markdown",
      "metadata": {
        "id": "ApLNmN7M3PTY"
      },
      "source": [
        "How did you do? Good job if you got it correct!\n",
        "\n",
        "Our validation data has a similar structure of questions and answers:"
      ]
    },
    {
      "cell_type": "code",
      "metadata": {
        "id": "ZNrxxfNk3it1"
      },
      "source":