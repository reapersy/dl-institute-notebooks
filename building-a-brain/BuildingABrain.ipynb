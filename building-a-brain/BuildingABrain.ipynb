{
  "nbformat": 4,
  "nbformat_minor": 0,
  "metadata": {
    "colab": {
      "name": "BuildingABrian.ipynb",
      "provenance": [],
      "collapsed_sections": []
    },
    "kernelspec": {
      "name": "python3",
      "display_name": "Python 3"
    },
    "language_info": {
      "name": "python"
    },
    "accelerator": "GPU"
  },
  "cells": [
    {
      "cell_type": "markdown",
      "metadata": {
        "id": "eTAtY3XZbMeu"
      },
      "source": [
        "<center><a href=\"https://www.nvidia.com/en-us/training/\"><img src=\"https://dli-lms.s3.amazonaws.com/assets/general/DLI_Header_White.png\" width=\"400\" height=\"186\" /></a></center>\n",
        "\n",
        "\n"
      ]
    },
    {
      "cell_type": "markdown",
      "metadata": {
        "id": "4jUb-j_RU3cE"
      },
      "source": [
        "# Building a Brain in 10 Minutes\n",
        "\n",
        "Many decades ago, artificial neural networks were developed to mimic the learning capabilities of humans and animals. Below is an excerpt from [The Machine that Changed the World](https://www.youtube.com/watch?v=enWWlx7-t0k&t=166s), a 1992 documentary about Artificial Intelligence."
      ]
    },
    {
      "cell_type": "code",
      "metadata": {
        "id": "Jj9625DV7oKS"
      },
      "source": [
        "from IPython.display import YouTubeVideo\n",
        "YouTubeVideo('cNxadbrN_aI')"
      ],
      "execution_count": null,
      "outputs": []
    },
    {
      "cell_type": "markdown",
      "metadata": {
        "id": "0iahPLqS7-H-"
      },
      "source": [
        "Since then, computers and machine learning libraries have evolved to where we can replicate many days of experimentation in just a few minutes. In this notebook, we will step through how artificial neural networks have improved over the years and the biological inspiration behind it.\n",
        "\n",
        "To demonstrate, we will be using [TensorFlow](https://www.tensorflow.org/), an open-source machine learning library popular in industry. Recent versions of TensorFlow automatically detect if there is a GPU available for computation."
      ]
    },
    {
      "cell_type": "code",
      "metadata": {
        "id": "boTcxf3jUGum"
      },
      "source": [
        "import tensorflow as tf\n",
        "\n",
        "tf.config.list_physical_devices('GPU')"
      ],
      "execution_count": null,
      "outputs": []
    },
    {
      "cell_type": "markdown",
      "metadata": {
        "id": "BfZZ17PkquZY"
      },
      "source": [
        "GPUs were originally designed for the significant amount of matrix mathematics used when rendering computer graphics. Neural networks also require a significant amount of matrix multiplication, making GPUs a good fit when building them.\n",
        "\n",
        "## Data\n",
        "\n",
        "Speaking of graphics, we're going to tackle a challenge that seemed almost impossible decades ago: image classification with computer vision. Specifically, we will try to classify articles of clothing from the [Fashion MNIST](https://github.com/zalandoresearch/fashion-mnist) dataset. A few samples are shown below:\n",
        "\n",
        "<center><img src=\"https://github.com/zalandoresearch/fashion-mnist/blob/master/doc/img/fashion-mnist-sprite.png?raw=true\" width=\"400\" /></center>\n",
        "\n",
        "Neural networks attempt to copy the human learning technique, Trial and Error. To do this, we will create something like a set of digital flashcards. Our artificial brains will attempt to guess what kind of clothing we are showing it with a flashcard, then we will give it the answer, helping the computer learn from its successes and mistakes.\n",
        "\n",
        "Just like how students are quizzed to test their understanding, we will set aside a portion of our data to quiz our neural networks to make sure they understand the concepts we're trying to teach them, as opposed to them memorizing the answers to their study questions. For trivia, memorization might be an acceptable strategy, but for skills, like adding two numbers, memorization won't get our models very far.\n",
        "\n",
        "The study data is often called the `training dataset` and the quiz data is often called the `validation dataset`. As Fashion MNIST is a popular dataset, it is already included with the TensorFlow library. Let's load it into our coding environment and take a look at it."
      ]
    },
    {
      "cell_type": "code",
      "metadata": {
        "id": "ijLiERH_n6q_"
      },
      "source": [
        "fashion_mnist = tf.keras.datasets.fashion_mnist\n",
        "(train_images, train_labels), (valid_images, valid_labels) = fashion_mnist.load_data()"
      ],
      "execution_count": null,
      "outputs": []
    },
    {
      "cell_type": "markdown",
      "metadata": {
        "id": "85SHQpW5yYkO"
      },
      "source": [
        "Let's start with our `train_images` and `train_labels`. `train_images` are like the question on our flashcards and `train_labels` are like the answer. In general, data scientists often refer to this answer as the `label`.\n",
        "\n",
        "We can plot one of these images to see what it looks like. To do so, we will use [Matplotlib](https://matplotlib.org/)."
      ]
    },
    {
      "cell_type": "code",
      "metadata": {
        "id": "sogb0Tt1xfni"
      },
      "source": [
        "import matplotlib.pyplot as plt\n",
        "\n",
        "# The question number to study with. Feel free to change up to 59999.\n",
        "data_idx = 42\n",
        "\n",
        "plt.figure()\n",
        "plt.imshow(train_images[data_idx], cmap='gray')\n",
        "plt.colorbar()\n",
        "plt.grid(False)\n",
        "plt.show()"
      ],
      "execution_count": null,
      "outputs": []
    },
    {
      "cell_type": "markdown",
      "metadata": {
        "id": "8WQP0S79zwHp"
      },
      "source": [
        "What would you classify this as? To make it easier, here are the ten categories it could be:\n",
        "\n",
        "| Label | Description |\n",
        "| --- | --- |\n",
        "| 0 | T-shirt/top |\n",
        "| 1 | Trouser |\n",
        "| 2 | Pullover |\n",
        "| 3 | Dress |\n",
        "| 4 | Coat |\n",
        "| 5 | Sandal |\n",
        "| 6 | Shirt |\n",
        "| 7 | Sneaker |\n",
        "| 8 | Bag |\n",
        "| 9 | Ankle boot |\n",
        "\n",
        "Have an answer? Run the following code cell to see if you were correct:"
      ]
    },
    {
      "cell_type": "code",
      "metadata": {
        "id": "CQdadtT11iI8"
      },
      "source": [
        "train_labels[data_idx]"
      ],
      "execution_count": null,
      "outputs": []
    },
    {
      "cell_type": "markdown",
      "metadata": {
        "id": "ApLNmN7M3PTY"
      },
      "source": [
        "How did you do? Good job if you got it correct!\n",
        "\n",
        "Our validation data has a similar structure of questions and answers:"
      ]
    },
    {
      "cell_type": "code",
      "metadata": {
        "id": "ZNrxxfNk3it1"
      },
      "source": [
        "import matplotlib.pyplot as plt\n",
        "\n",
        "# The question number to quiz with. Feel free to change up to 9999.\n",
        "data_idx = 6174\n",
        "\n",
        "plt.figure()\n",
        "plt.imshow(valid_images[data_idx], cmap='gray')\n",
        "plt.colorbar()\n",
        "plt.grid(False)\n",
        "plt.show()"
      ],
      "execution_count": null,
      "outputs": []
    },
    {
      "cell_type": "code",
      "metadata": {
        "id": "AeJ68DMn4f3g"
      },
      "source": [
        "valid_labels[data_idx]"
      ],
      "execution_count": null,
      "outputs": []
    },
    {
      "cell_type": "markdown",
      "metadata": {
        "id": "yovioyGH4sH5"
      },
      "source": [
        "# Building a Neuron\n",
        "\n",
        "Neurons are the fundamental building blocks to a neural network. Just like how biological neurons send an electrical impulse under specific stimuli, artificial neural networks similarly result in a numerical output with a given numerical input.\n",
        "\n",
        "We can break down building a neuron into 3 steps:\n",
        "- Defining the architecture\n",
        "- Intiating training\n",
        "- Evaluating the model\n",
        "\n",
        "## Defining the architecture\n",
        "<center>\n",
        "<a title=\"BruceBlaus, CC BY 3.0 &lt;https://creativecommons.org/licenses/by/3.0&gt;, via Wikimedia Commons\" href=\"https://commons.wikimedia.org/wiki/File:Blausen_0657_MultipolarNeuron.png\"><img width=\"512\" alt=\"Blausen 0657 MultipolarNeuron\" src=\"https://upload.wikimedia.org/wikipedia/commons/thumb/1/10/Blausen_0657_MultipolarNeuron.png/512px-Blausen_0657_MultipolarNeuron.png\"></a>\n",
        "<p><small>\n",
        "Image courtesy of <a href=\"https://commons.wikimedia.org/wiki/File:Blausen_0657_MultipolarNeuron.png\">Wikimedia Commons</a>\n",
        "</small></p>\n",
        "</center>\n",
        "\n",
        "Biological neurons transmit information with a mechanism similar to [Morse Code](https://news.weill.cornell.edu/news/2007/09/scientists-find-clues-to-crack-brains-neural-code). It receives electrical signals through the dendrites, and under the right conditions, sends an electrical impulse down the axon and out through the terminals.\n",
        "\n",
        "It is theorized the sequence and timing of these impulses play a large part of how information travels through the brain. Most artificial neural networks have yet to capture this timing aspect of biological neurons, and instead emulate the phenomenon with simpler mathematical formulas.\n",
        "\n",
        "\n",
        "### The Math\n",
        "\n",
        "Computers are built with discrete 0s and 1s whereas humans and animals are built on more continuous building blocks. Because of this, some of the first neurons attempted to mimic biological neurons with a linear regression function: `y = mx + b`. The `x` is like information coming in through the dendrites and the `y` is like the output through the terminals. As the computer guesses more and more answers to the questions we present it, it will update its variables (`m` and `b`) to better fit the line to the data it has seen.\n",
        "\n",
        "Neurons are often exposed to multivariate data. We're going to build a neuron that takes each pixel value (which is between `0` and `255`), and assign it a weight, which is equivalent to our `m`. Data scientists often express this weight as `w`. For example, the first pixel will have a weight of `w0`, the second will have a weight of `w1`, and so on. Our full equation becomes `y = w0x0 + w1x1 + w2x2 + ... + b`.\n",
        "\n",
        "Each image is 28 pixels by 28 pixels, so we will have a total of 784 weights. A pixel value of `0` would be black and a pixel value of `255` would be white. Let's look at the raw pixel values of the previous image we plotted. Each number below will be assigned a weight."
      ]
    },
    {
      "cell_type": "code",
      "metadata": {
        "id": "dHq93yV8_FWR"
      },
      "source": [
        "# 28 lists with 28 values each\n",
        "valid_images[data_idx]"
      ],
      "execution_count": null,
      "outputs": []
    },
    {
      "cell_type": "markdown",
      "metadata": {
        "id": "RyeKfI1MeS1H"
      },
      "source": [
        "One more thing to think about: the output of `y = mx + b` is a number, but here, we're trying to classify different articles of clothing. How might we convert numbers into categories?\n",
        "\n",
        "Here is a simple approach: we can make ten neurons, one for each article of clothing. If the neuron assigned to \"Trousers\" (label #1), has the highest output compared to the other neurons, the model will guess \"Trousers\" for the given input image.\n",
        "\n",
        "[Keras](https://keras.io/), a deep learning framework that has been integrated into TensorFlow, makes such a model easy to build. We will use the [Sequential API](https://keras.io/guides/sequential_model/), which allows us to stack [layers](https://keras.io/api/layers/), the list of operations we will be applying to our data as it is fed through the network.\n",
        "\n",
        "In the below model, we have two layers:\n",
        "* [Flatten](https://www.tensorflow.org/api_docs/python/tf/keras/layers/Flatten) - Converts multidimensional data into 1 dimensional data (ex: a list of lists into a single list).\n",
        "* [Dense](https://www.tensorflow.org/api_docs/python/tf/keras/layers/Dense) -  A \"row\" of neurons. Each neuron has a weight (`w`) for each input. In the example below, we use the number `10` to place ten neurons.\n",
        "\n",
        "We will also define an `input_shape` which is the dimensions of our data. In this case, our `28x28` pixels for each image."
      ]
    },
    {
      "cell_type": "code",
      "metadata": {
        "id": "SIgbDeIbqELs"
      },
      "source": [
        "number_of_classes = train_labels.max() + 1\n",
        "number_of_classes"
      ],
      "execution_count": null,
      "outputs": []
    },
    {
      "cell_type": "code",
      "metadata": {
        "id": "-_dqJnVc_u_k"
      },
      "source": [
        "model = tf.keras.Sequential([\n",
        "    tf.keras.layers.Flatten(input_shape=(28, 28)),\n",
        "    tf.keras.layers.Dense(number_of_classes)\n",
        "])"
      ],
      "execution_count": null,
      "outputs": []
    },
    {
      "cell_type": "markdown",
      "metadata": {
        "id": "CFu5GSceKutY"
      },
      "source": [
        "### Verifying the model\n",
        "\n",
        "To make sure our model has the structure we expect, we can call the [summary](https://www.tensorflow.org/js/guide/models_and_layers#model_summary) method."
      ]
    },
    {
      "cell_type": "code",
      "metadata": {
        "id": "wYSHZNPEA1tb"
      },
      "source": [
        "model.summary()"
      ],
      "execution_count": null,
      "outputs": []
    },
    {
      "cell_type": "markdown",
      "metadata": {
        "id": "lueaUIm_P58N"
      },
      "source": [
        "We can see that our total parameter count is `7850`. Let's see if this makes sense. For each pixel, there should be a weight for each of our ten classes."
      ]
    },
    {
      "cell_type": "code",
      "metadata": {
        "id": "00aNzMfrQARw"
      },
      "source": [
        "image_height = 28\n",
        "image_width = 28\n",
        "\n",
        "number_of_weights = image_height * image_width * number_of_classes\n",
        "number_of_weights"
      ],
      "execution_count": null,
      "outputs": []
    },
    {
      "cell_type": "markdown",
      "metadata": {
        "id": "41UE3f6cVttG"
      },
      "source": [
        "So our weights make up `7,840` parameters. Where do the other ten come from? It's each of the `10` neurons biases, the `b` in `y = mx + b`.\n",
        "\n",
        "There are a few other ways to verify our model. We can also [plot](https://keras.io/api/utils/model_plotting_utils/) it:"
      ]
    },
    {
      "cell_type": "code",
      "metadata": {
        "id": "3wY9VLOKKyKw"
      },
      "source": [
        "tf.keras.utils.plot_model(model, show_shapes=True)"
      ],
      "execution_count": null,
      "outputs": []
    },
    {
      "cell_type": "markdown",
      "metadata": {
        "id": "sd9yFrAn3GWX"
      },
      "source": [
        "In academic papers, models are often represented like the picture below. In practice, modern neural networks are so large, it's impractical to graph them in this way. The below is a fraction of our entire model. There are 10 neurons on the bottom representing each of our ten classes, and 28 input nodes on the top, representing a row of our pixels. In reality, the top layer is 28 times bigger!\n",
        "\n",
        "Each circle represents a neuron or an input, and each line represents a weight. The below image was created with a tool by [Alex Lenail](http://alexlenail.me/NN-SVG/index.html)."
      ]
    },
    {
      "cell_type": "markdown",
      "metadata": {
        "id": "K7MlGdeU3Gau"
      },
      "source": [
        "![nn.png](data:image/png;base64,iVBORw0KGgoAAAANSUhEUgAABSIAAAIVCAIAAABKkhbrAAAAAXNSR0IArs4c6QAAAARnQU1BAACxjwv8YQUAAAAJcEhZcwAAHYcAAB2HAY/l8WUAAP+lSURBVHhe7P15l2Vpdd/7+h35Zegt+K/ro3PGGb7j3GsJ2ZJ9bUuyLMvqLCFkIRCIrqiGoiiqqCqaggIkGjU0opHoEV2JRvQFSPTI9xPxXUwtRWZG7ojYmaCqZ44Yezxr7WfN5jd/c85nRWZl/Yv/vWTJkiVLlixZsmTJkiVLliw5kqzX7CVLlixZsmTJkiVLlixZsuRosl6zlyxZsmTJkiVLlixZsmTJkqPJes1esmTJkiVLlixZsmTJkiVLjibrNXvJkiVLlixZsmTJkiVLliw5mqzX7CVLlixZsmTJkiVLlixZsuRosl6zlyxZsmTJkiVLlixZsmTJkqPJes1esmTJkiVLlixZsmTJkiVLjibrNXvJkiVLlixZsmTJkiVLliw5mqzX7CVLlixZsmTJkiVLlixZsuRosl6zlyxZsmTJkiVLlixZsmTJkqPJes1esmTJkiVLlixZsmTJkiVLjibrNXvJkiVLlixZsmTJkiVLliw5mqzX7CVLlixZsmTJkiVLlixZsuRosl6zlyxZsmTJkiVLlixZsmTJkqPJes1esmTJkiVLlixZsmTJkiVLjibrNXvJkiVLlixZsmTJkiVLliw5mqzX7CVLlixZsmTJkiVLlixZsuRosl6zlyxZsmTJkiVLlixZsmTJkqPJes1esmTJkiVLlixZsmTJkiVLjibrNXvJkiVLlixZsmTJkiVLliw5mqzX7CVLlixZsmTJkiVLlixZsuRosl6zlyxZsmTJkiVLlixZsmTJkqPJes1esmTJkiVLlixZsmTJkiVLjibrNXvJkiVLlixZsmTJkiVLliw5mqzX7CVLlixZsmTJkiVLlixZsuRosl6zlyxZsmTJkiVLlixZsmTJkqPJes1esmTJkiVLlixZsmTJkiVLjibrNXvJkiVLlixZsmTJkiVLliw5mqzX7CVLlixZsmTJkiVLlixZsuRosl6zlyxZsmTJkiVLlixZsmTJkqPJes1esmTJkiVLlixZsmTJkiVLjibrNXvJkiVLlixZsmTJkiVLliw5mqzX7CVLlixZsmTJkiVLlixZsuRosl6zlyxZsmTJkiVLlixZsmTJkqPJes1esmTJkiVLlixZsmTJkiVLjibrNXvJkiVLlixZsmTJkiVLliw5mqzX7CVLlixZsmTJkiVLlixZsuRosl6zlyxZsmTJkiVLlixZsmTJkqPJes1esmTJkiVLlixZsmTJkiVLjibrNXvJkiVLlixZsmTJkiVLliw5mjxVXrOf+M7X3/Lpt734Ay97xruf68fCpZvb17dMlt1l91bIsrvs3gpZdpfdWyHL7rJ7K2TZXXZvhTzV7C65pfLkf83+9Nc/+7/e8/yffPRp/+ndv/bfPv6MX//ss/1YuPzJR3/aV5/+xue2rUeVZXfZ3bYeVZbdZXfbelRZdpfdbetRZdlddretR5Vld9ndth5Vnmp2l9wGeZK/Zr/2k3/8r1/zU//1Y7/zvO/f/4L//cCZHzd9ZcNrP/HH2wNHkmV3/7PsHkuW3f3PsnssWXb3P8vusWTZ3f8su8eSZXf/s+weS55qdpfcHnkyv2a/7MOPPO2tv/h737jzDGvP/Nhgm83bY1eWZfe6P8vuFWXZve7PsntFWXav+7PsXlGW3ev+LLtXlGX3uj/L7hXlqWZ3yW2TJ+1r9hsff+tPv/UXnvPdl54h63V/nvOdl9rske3hK8iye87PsntpWXbP+Vl2Ly3L7jk/y+6lZdk952fZvbQsu+f8LLuXlqea3SW3U56cr9lf+dZXf/K1T/vdJ+44Q9Nzfmz2iAc3FZeSZfemP8vuJWTZvenPsnsJWXZv+rPsXkKW3Zv+LLuXkGX3pj/L7iXkqWZ3yW2WJ+dr9os/8LJf+NBvnSHoTX884sFNxaVk2T3kZ9m9qCy7h/wsuxeVZfeQn2X3orLsHvKz7F5Ult1Dfpbdi8pTze758qUvfem5z33udnFUoZby7eK2yyc/+cltddvlyfma/X8/9rPP+vu7z7Dzpj8e8eCm4lKy7B7ys+xeVJbdQ36W3YvKsnvIz7J7UVl2D/lZdi8qy+4hP8vuReWpZvd8Ocpr9ite8YoPfehD28UP5Uf7mv0jlCfha/aHvvzRn/nTXzpDzQN/POjxTdEFZdk9/GfZPVyW3cN/lt3DZdk9/GfZPVyW3cN/lt3DZdk9/GfZPVyeanZvKv98X7OfeOKJbfVjJk/C1+zXf+rN/+V9v3mGlwf+eNDjm6ILyrJ7+M+ye7gsu4f/LLuHy7J7+M+ye7gsu4f/LLuHy7J7+M+ye7g81ezeVOY123vy6173up/4iZ/4F//iX/ybf/NvvvnNb7rp/fk5z3mOO+SXf/mX2+bmyZOnz3rkrrvu2m8YOfOaTSG17XzrW99Kz7vf/e75Kp3utyFVHnffU+NP8g//8A/b6sdSnoSv2Q9+9NW/+JHfPsPLA3886PFN0QVl2T38Z9k9XJbdw3+W3cNl2T38Z9k9XJbdw3+W3cNl2T38Z9k9XJ5qdm8q+9fsf/Wv/lUvxt6cvfFaeN21Ptn3w5vXvmZbuON+N0fO+dNs+7/85S97ge/lmdo0P/3pT29DdzzOpWs1X3vnx0qehK/ZD//1a3/hw5ekrwc9vim6oCy7h/8su4fLsnv4z7J7uCy7h/8su4fLsnv4z7J7uCy7h/8su4fLU83uTWX/mj3vz7Pevyr3Ur3f1h2LA1+z58+9f+InfsJX85SF923v1X2b2GxPvp0RO7fVj6U8CV+z3/Lpt/2n9/z6GV4e+ONBj2+KLijL7uE/y+7hsuwe/rPsHi7L7uE/y+7hsuwe/rPsHi7L7uE/y+7h8lSze1OZV1lvvPO3uOdduhfg/c35au5YdL+bI2des70bzx+M9xXxlt6nm6yfUTJf/fOSJ+Fr9qe//tn/zx//pzO8PPDHgx7fFF1Qlt3Df5bdw2XZPfxn2T1clt3Df5bdw2XZPfxn2T1clt3Df5bdw+WpZvem4lX2nNfs/V8af/rTn+6+/W727j3fHvKaPXt8zt9Od5O0dv/nfu7n9v8NtvvrNfvHRX7urb/82196/hlq3vTHIx7cVFxKlt1Dfpbdi8qye8jPsntRWXYP+Vl2LyrL7iE/y+5FZdk95GfZvag81eyeL15lz//T7Pkn0Oavas/f/fZtr8H2/8t/+S/7d8tGXLaN9B9az7+v5o29V2v390+5bD/pkfWa/eMir//Um//DO//HGXbe9Off/dkvPfKhK6XwcnZ/9m2/fMV/NvBydv/DO3/lR2T3fyy7F5Jl95CfZfeisuwe8rPsXlSW3UN+lt2LyrJ7yM8/c7u/ckbtTX+OYvdn3/7fz6i96c/V7b7qI4/9+z//b2fU3vTn6navIl6k93+8fHTxLk22iyeLPDlfs8l/+dNf+5XHn3mGoOf82PxvHvnZZzzjGW9729t+8IMfbFouLpew+/9+5c/df//9X/7ylzcVl5JL2P1/XvUf3v/+92/PX1YuYfdpj/381Qv1EnZ/7k1H+BXgJez+5z/51e3hK8iye/7Psns5WXbP/1l2LyfL7vk/y+7l5Klm9z+++Vduv91vfetbT3v9L9x+ux/+8If/n1f/x9ts94knnnj44Ycdwm+n3X/4h39417ve9cxnnrx03OZ4ryi39DWb5vnHxp9M8qR9zf7E1x7/ydc+7Tf/9jlnaHrdH9v+9Wt+6r///q/+xm/8xm/91m/dcccdn/zkJzdFF5RL2P0fz/r1//k//+ezn/3sd77znZd+w79cvM94xjMeffTRr33ta5uWi8sl7P7qH/zGi170ok9/+tObikvJJez+1gt+Z/4OzKXlEnbvefSlV28cF7b76p9658evGiy5qN3/49Gf9sj28BXkonZtXnYvIcvuOT/L7qVl2T3n58lh9/94zU/ffrvv/uRf3n67Xjtf9vqXG+W32e5f/dVfPeOO37vNdv/2b//2nnvucUi7nXa//vWvv+ENb/i93/s9h+HbZtdh+73vfe8f/uEfOn7fTrt/8zd/A+Hf/u3f/s3f/M1fedav3X5eXUVu3Wv2W0//fviT74+yyZP2NZv85Rc/+H+99md++RO/e4asZ35s+D8ffdqvv+i3vOj+7u/+7v/6X//r6U9/+jOf+Uzvn1/5ylc2XReRw+0aGL92apdRpsl99933mc98ZlN0QbmQXfE+61nP0teYfv7zn/+Rj3xk03JxuZDd37jjt//gD/6AUd3tHe94x1X+t/IXjRfOTD/22GNXbBMXsvubL346u/fff3//5clV5GLx3vFbL37xiz/1qU9tD19BDrf7k6/56d95ye+9733v2568mlwo3rvf8NLtsSvLBeJ99Glve/xd22NXlsPt/p+v/Zm/+uIHt8euLIfbtW3ZvbQsu9f9uRV2Fcjtt/vOT79HA7z9du990/0a4G22++EPf/gZ9z7zNsfraHTvvff+5p1Pv512v/rVrz7yyCPPec5zjNTbZteL/Zve9KbnPve5Dg+OLrcnvw5j73nPe174whc6/bLrqHZ77H7iE5+48847GXUsvG3xfv7zn3/ooYdYJM94xjOcDH/thf/zVtt94okn3vjGNzp4e8XItHi9AvxI+saS2yZP5tds8ulvfO6X3/70f/dn/+3XPvvs5//g5XvWunTTVzZ89PMfe9WrXvWCF7zgec97nte/3//931fzXkFdvvOd7/zud7+7qTtYDrT78Jte9aIXvchbLmGXUaYZfetb3/r3f//3m66LyCF2//ObfvW5L32+YBOtnFGfr3/96y/9x9o3tfu0P/nFf/faX3zOS/5QdNk1t7S2V77ylVf52/I3tftTb/75n3n0F559z3NZND/gzO599933t3/7t5uKS8lN7f7bN/8Xdp9193MYlWLW77777qu/9B5i92mP/vzv3/UHjJKXvOQlH/3oR7eHryAH2v29F/++d3uRHutN+0C7z3zxs+66664///M/3x67shxk9zU//8w7n/XYY499//vf3x67shxo90UP3nm5/nAjOcQuPr//00ee8YfY/fm3/rpt2wNHkpva/em3/qINt8iuZngju1y6RXZ/8U9+UzO8zXY/9LmP/rvX/aIk3k67XlHuffV